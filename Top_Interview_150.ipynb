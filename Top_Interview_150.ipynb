{
  "nbformat": 4,
  "nbformat_minor": 0,
  "metadata": {
    "colab": {
      "provenance": [],
      "authorship_tag": "ABX9TyPcgXZmp0RPA42fW87Rk9IZ",
      "include_colab_link": true
    },
    "kernelspec": {
      "name": "python3",
      "display_name": "Python 3"
    },
    "language_info": {
      "name": "python"
    }
  },
  "cells": [
    {
      "cell_type": "markdown",
      "metadata": {
        "id": "view-in-github",
        "colab_type": "text"
      },
      "source": [
        "<a href=\"https://colab.research.google.com/github/vedmara/Colab/blob/main/Top_Interview_150.ipynb\" target=\"_parent\"><img src=\"https://colab.research.google.com/assets/colab-badge.svg\" alt=\"Open In Colab\"/></a>"
      ]
    },
    {
      "cell_type": "markdown",
      "source": [
        "I took assignments to prepare for an interview from the Leetcode website.\n"
      ],
      "metadata": {
        "id": "-pJnIPT3Cuky"
      }
    },
    {
      "cell_type": "markdown",
      "source": [
        "**1.Two Sum**\n"
      ],
      "metadata": {
        "id": "5wpAXXbYvVQ7"
      }
    },
    {
      "cell_type": "markdown",
      "source": [
        "Given an array of integers nums and an integer target, return indices of the two numbers such that they add up to target.\n",
        "\n",
        "You may assume that each input would have exactly one solution, and you may not use the same element twice.\n",
        "\n",
        "You can return the answer in any order.\n",
        "\n",
        "\n",
        "\n",
        "Example 1:\n",
        "\n",
        "Input: nums = [2,7,11,15], target = 9\n",
        "Output: [0,1]\n",
        "Explanation: Because nums[0] + nums[1] == 9, we return [0, 1].\n",
        "\n",
        "Example 2:\n",
        "\n",
        "Input: nums = [3,2,4], target = 6\n",
        "Output: [1,2]\n",
        "\n",
        "Example 3:\n",
        "\n",
        "Input: nums = [3,3], target = 6\n",
        "Output: [0,1]"
      ],
      "metadata": {
        "id": "wHWCBEnivhYG"
      }
    },
    {
      "cell_type": "markdown",
      "source": [
        "Here's a breakdown of how this code works:\n",
        "\n",
        "It initializes an empty dictionary index_map to store the indices of the numbers as they are processed.\n",
        "\n",
        "It iterates through the nums list using enumerate, which provides both the index and the value of each element.\n",
        "\n",
        "For each number num at index index, it checks if target - num exists in the index_map. If it does, that means there is a pair of numbers in the list that adds up to the target.\n",
        "\n",
        "If such a pair is found, it returns the indices of the two numbers, which are index_map[target - num] and index.\n",
        "\n",
        "If no pair is found during the iteration, the function will return an empty list (if you'd like to handle this case differently, you can modify the code accordingly).\n",
        "\n"
      ],
      "metadata": {
        "id": "ecX75zTbwC1T"
      }
    },
    {
      "cell_type": "code",
      "source": [
        "class Solution:\n",
        "    def twoSum(self, nums: List[int], target: int) -> List[int]:\n",
        "        index_map = {}\n",
        "        for index, num in enumerate(nums):\n",
        "            if target - num in index_map:\n",
        "                return index_map[target - num], index\n",
        "            index_map[num] = index"
      ],
      "metadata": {
        "id": "8uNXTziHv6_M"
      },
      "execution_count": null,
      "outputs": []
    },
    {
      "cell_type": "markdown",
      "source": [
        "**15. 3Sum**\n"
      ],
      "metadata": {
        "id": "7gAwVhVEGTJY"
      }
    },
    {
      "cell_type": "markdown",
      "source": [],
      "metadata": {
        "id": "oMxL6kncUwtZ"
      }
    },
    {
      "cell_type": "markdown",
      "source": [
        "Given an integer array nums, return all the triplets [nums[i], nums[j], nums[k]] such that i != j, i != k, and j != k, and nums[i] + nums[j] + nums[k] == 0.\n",
        "\n",
        "Notice that the solution set must not contain duplicate triplets.\n",
        "\n"
      ],
      "metadata": {
        "id": "fsC_YuFjDVd9"
      }
    },
    {
      "cell_type": "markdown",
      "source": [
        "Example1: Input: nums = [-1,0,1,2,-1,-4]\n",
        "Output: [[-1,-1,2],[-1,0,1]]\n",
        "Explanation:\n",
        "nums[0] + nums[1] + nums[2] = (-1) + 0 + 1 = 0.\n",
        "nums[1] + nums[2] + nums[4] = 0 + 1 + (-1) = 0.\n",
        "nums[0] + nums[3] + nums[4] = (-1) + 2 + (-1) = 0.\n",
        "The distinct triplets are [-1,0,1] and [-1,-1,2].\n",
        "Notice that the order of the output and the order of the triplets does not matter.\n"
      ],
      "metadata": {
        "id": "kIF7xZ1PEHSU"
      }
    },
    {
      "cell_type": "markdown",
      "source": [
        "Example2: Input: nums = [0,1,1]\n",
        "Output: []\n",
        "Explanation: The only possible triplet does not sum up to 0.\n"
      ],
      "metadata": {
        "id": "iyKjuqh2EOnn"
      }
    },
    {
      "cell_type": "markdown",
      "source": [
        "Example3:Input: nums = [0,0,0]\n",
        "Output: [[0,0,0]]\n",
        "Explanation: The only possible triplet sums up to 0.\n"
      ],
      "metadata": {
        "id": "BSe4J7zCEW8x"
      }
    },
    {
      "cell_type": "markdown",
      "source": [
        "1. If the length of the nums array<=2, it means it does not have a triplet, so we can return []\n",
        "2. Else, sort the nums array so that we can proceed further. This will take nlog(n) time\n",
        "3. Linearly iterate over the list from the first item till second last element, and set the low and high pointers to low +1 and length(nums) resp\n",
        "4. Set the low pointer as i+1 and the high pointer as the end of the list\n",
        "5. Repeat the process till low < high\n",
        "6. If the sum of three numbers == 0, add that element to the list, sort it and add them to a set (as we need to return the unique set)\n",
        "7. If the sum of three numbers < 0, it means we need to move towards the right (as nums are sorted in ascending order), so decrement the high pointer\n",
        "8. If the sum of three numbers > 0, it means we need to move towards the left, so increment the low pointer\n",
        "9. Return result set\n"
      ],
      "metadata": {
        "id": "BbT_o1MQEdMu"
      }
    },
    {
      "cell_type": "code",
      "source": [
        "class Solution:\n",
        "    def threeSum(self, nums: List[int]) -> List[List[int]]:\n",
        "        if len(nums) <= 2:\n",
        "            return []\n",
        "\n",
        "        result = []\n",
        "        nums = sorted(nums)\n",
        "\n",
        "        for x in range(len(nums) - 2):\n",
        "            if x > 0 and nums[x] == nums[x - 1]:\n",
        "                continue  # Skip duplicate elements\n",
        "\n",
        "            b = x + 1\n",
        "            e = len(nums) - 1\n",
        "\n",
        "            while b < e:\n",
        "                val = nums[x] + nums[b] + nums[e]\n",
        "\n",
        "                if val == 0:\n",
        "                    result.append([nums[x], nums[b], nums[e]])\n",
        "\n",
        "                    while b < e and nums[b] == nums[b + 1]:\n",
        "                        b += 1\n",
        "                    while b < e and nums[e] == nums[e - 1]:\n",
        "                        e -= 1\n",
        "\n",
        "                    b += 1\n",
        "                    e -= 1\n",
        "\n",
        "                elif val < 0:\n",
        "                    b += 1\n",
        "                else:\n",
        "                    e -= 1\n",
        "\n",
        "        return result"
      ],
      "metadata": {
        "id": "HJnqx_rFEkzY"
      },
      "execution_count": null,
      "outputs": []
    },
    {
      "cell_type": "markdown",
      "source": [
        "Runtime\n",
        "\n",
        "1122ms\n",
        "Beats 47.92%of users with Python3\n",
        "\n",
        "Memory\n",
        "\n",
        "20.34MB\n",
        "Beats 73.20%of users with Python3"
      ],
      "metadata": {
        "id": "1KNdM_R2F_Ed"
      }
    },
    {
      "cell_type": "markdown",
      "source": [],
      "metadata": {
        "id": "C0c90C0DGahw"
      }
    },
    {
      "cell_type": "markdown",
      "source": [
        "**383. Ransom Note**\n"
      ],
      "metadata": {
        "id": "Fh1C_4IrRCae"
      }
    },
    {
      "cell_type": "markdown",
      "source": [
        "Given two strings ransomNote and magazine, return true if ransomNote can be constructed by using the letters from magazine and false otherwise.\n",
        "\n",
        "Each letter in magazine can only be used once in ransomNote.\n",
        "\n",
        "\n",
        "\n",
        "Example 1:\n",
        "\n",
        "Input: ransomNote = \"a\", magazine = \"b\"\n",
        "Output: false\n",
        "Example 2:\n",
        "\n",
        "Input: ransomNote = \"aa\", magazine = \"ab\"\n",
        "Output: false\n",
        "Example 3:\n",
        "\n",
        "Input: ransomNote = \"aa\", magazine = \"aab\"\n",
        "Output: true"
      ],
      "metadata": {
        "id": "KIVFi4HrRE0I"
      }
    },
    {
      "cell_type": "code",
      "source": [
        "lass Solution:\n",
        "    def canConstruct(self, ransomNote: str, magazine: str) -> bool:\n",
        "        note,mag = Counter(ransomNote), Counter(magazine)\n",
        "        if note & mag == note: return True\n",
        "        return False"
      ],
      "metadata": {
        "id": "Y0dh9ho5RKrT"
      },
      "execution_count": null,
      "outputs": []
    },
    {
      "cell_type": "markdown",
      "source": [
        "**205. Isomorphic Strings**"
      ],
      "metadata": {
        "id": "Nw6SsPBbUz07"
      }
    },
    {
      "cell_type": "markdown",
      "source": [
        "Given two strings s and t, determine if they are isomorphic.\n",
        "\n",
        "Two strings s and t are isomorphic if the characters in s can be replaced to get t.\n",
        "\n",
        "All occurrences of a character must be replaced with another character while preserving the order of characters. No two characters may map to the same character, but a character may map to itself.\n",
        "\n",
        "\n",
        "\n",
        "Example 1:\n",
        "\n",
        "Input: s = \"egg\", t = \"add\"\n",
        "Output: true\n",
        "Example 2:\n",
        "\n",
        "Input: s = \"foo\", t = \"bar\"\n",
        "Output: false\n",
        "Example 3:\n",
        "\n",
        "Input: s = \"paper\", t = \"title\"\n",
        "Output: true"
      ],
      "metadata": {
        "id": "dGT6bTGgU8c0"
      }
    },
    {
      "cell_type": "code",
      "source": [
        "class Solution:\n",
        "  def isIsomorphic(self, s: str, t: str) -> bool:\n",
        "        # Check if the number of unique characters in the strings are equal\n",
        "        if len(set(s)) != len(set(t)):\n",
        "            return False\n",
        "\n",
        "        # Check if the mapping between characters is unique\n",
        "        char_map = {}\n",
        "        for i in range(len(s)):\n",
        "            if s[i] not in char_map:\n",
        "                char_map[s[i]] = t[i]\n",
        "            elif char_map[s[i]] != t[i]:\n",
        "                return False\n",
        "        return True"
      ],
      "metadata": {
        "id": "GxoY7mlFVCXx"
      },
      "execution_count": null,
      "outputs": []
    },
    {
      "cell_type": "markdown",
      "source": [
        "**290. Word Pattern**\n"
      ],
      "metadata": {
        "id": "Srek7PJg3bA0"
      }
    },
    {
      "cell_type": "markdown",
      "source": [
        "Given a pattern and a string s, find if s follows the same pattern.\n",
        "\n",
        "Here follow means a full match, such that there is a bijection between a letter in pattern and a non-empty word in s.\n",
        "\n",
        "\n",
        "\n",
        "Example 1:\n",
        "\n",
        "Input: pattern = \"abba\", s = \"dog cat cat dog\"\n",
        "Output: true\n",
        "Example 2:\n",
        "\n",
        "Input: pattern = \"abba\", s = \"dog cat cat fish\"\n",
        "Output: false\n",
        "Example 3:\n",
        "\n",
        "Input: pattern = \"aaaa\", s = \"dog cat cat dog\"\n",
        "Output: false"
      ],
      "metadata": {
        "id": "ickhoNql3dGK"
      }
    },
    {
      "cell_type": "code",
      "source": [
        "class Solution:\n",
        "    def wordPattern(self, pattern: str, s: str) -> bool:\n",
        "        hm = {}\n",
        "\n",
        "        # we need to split the s over the space(\" \")\n",
        "        s = s.split(\" \")\n",
        "\n",
        "        # if the lengths of pattern and s are not same then return False\n",
        "        if len(s) != len(pattern):\n",
        "            return False\n",
        "\n",
        "        # loop over both pattern and s at same time using the index, as they are of same length\n",
        "        for i in range(len(s)):\n",
        "\n",
        "            pv, sv = \"pat\"+pattern[i] , \"str\"+s[i]\n",
        "\n",
        "            # add the pattern value and s value if its not in hashmap\n",
        "            if pv not in hm:\n",
        "                hm[pv] = i\n",
        "\n",
        "            if sv not in hm:\n",
        "                hm[sv] = i\n",
        "\n",
        "            # if both are not returning the same index, it means the pattern is not being followed\n",
        "            if hm[sv] != hm[pv]:\n",
        "                return False\n",
        "\n",
        "        return True"
      ],
      "metadata": {
        "id": "C_qDoxHi3g07"
      },
      "execution_count": null,
      "outputs": []
    }
  ]
}