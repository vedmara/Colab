{
  "nbformat": 4,
  "nbformat_minor": 0,
  "metadata": {
    "colab": {
      "provenance": [],
      "authorship_tag": "ABX9TyPel8YEDK7D9M7CnEOHvXtd",
      "include_colab_link": true
    },
    "kernelspec": {
      "name": "python3",
      "display_name": "Python 3"
    },
    "language_info": {
      "name": "python"
    }
  },
  "cells": [
    {
      "cell_type": "markdown",
      "metadata": {
        "id": "view-in-github",
        "colab_type": "text"
      },
      "source": [
        "<a href=\"https://colab.research.google.com/github/vedmara/Colab/blob/main/Top_Interview_150.ipynb\" target=\"_parent\"><img src=\"https://colab.research.google.com/assets/colab-badge.svg\" alt=\"Open In Colab\"/></a>"
      ]
    },
    {
      "cell_type": "markdown",
      "source": [
        "I took assignments to prepare for an interview from the Leetcode website.\n"
      ],
      "metadata": {
        "id": "-pJnIPT3Cuky"
      }
    },
    {
      "cell_type": "markdown",
      "source": [
        "**1.Two Sum**\n"
      ],
      "metadata": {
        "id": "5wpAXXbYvVQ7"
      }
    },
    {
      "cell_type": "markdown",
      "source": [
        "Given an array of integers nums and an integer target, return indices of the two numbers such that they add up to target.\n",
        "\n",
        "You may assume that each input would have exactly one solution, and you may not use the same element twice.\n",
        "\n",
        "You can return the answer in any order.\n",
        "\n",
        "\n",
        "\n",
        "Example 1:\n",
        "\n",
        "Input: nums = [2,7,11,15], target = 9\n",
        "Output: [0,1]\n",
        "Explanation: Because nums[0] + nums[1] == 9, we return [0, 1].\n",
        "\n",
        "Example 2:\n",
        "\n",
        "Input: nums = [3,2,4], target = 6\n",
        "Output: [1,2]\n",
        "\n",
        "Example 3:\n",
        "\n",
        "Input: nums = [3,3], target = 6\n",
        "Output: [0,1]"
      ],
      "metadata": {
        "id": "wHWCBEnivhYG"
      }
    },
    {
      "cell_type": "markdown",
      "source": [
        "Here's a breakdown of how this code works:\n",
        "\n",
        "It initializes an empty dictionary index_map to store the indices of the numbers as they are processed.\n",
        "\n",
        "It iterates through the nums list using enumerate, which provides both the index and the value of each element.\n",
        "\n",
        "For each number num at index index, it checks if target - num exists in the index_map. If it does, that means there is a pair of numbers in the list that adds up to the target.\n",
        "\n",
        "If such a pair is found, it returns the indices of the two numbers, which are index_map[target - num] and index.\n",
        "\n",
        "If no pair is found during the iteration, the function will return an empty list (if you'd like to handle this case differently, you can modify the code accordingly).\n",
        "\n"
      ],
      "metadata": {
        "id": "ecX75zTbwC1T"
      }
    },
    {
      "cell_type": "code",
      "source": [
        "class Solution:\n",
        "    def twoSum(self, nums: List[int], target: int) -> List[int]:\n",
        "        index_map = {}\n",
        "        for index, num in enumerate(nums):\n",
        "            if target - num in index_map:\n",
        "                return index_map[target - num], index\n",
        "            index_map[num] = index"
      ],
      "metadata": {
        "id": "8uNXTziHv6_M"
      },
      "execution_count": null,
      "outputs": []
    },
    {
      "cell_type": "markdown",
      "source": [
        "**15. 3Sum**\n"
      ],
      "metadata": {
        "id": "7gAwVhVEGTJY"
      }
    },
    {
      "cell_type": "markdown",
      "source": [],
      "metadata": {
        "id": "oMxL6kncUwtZ"
      }
    },
    {
      "cell_type": "markdown",
      "source": [
        "Given an integer array nums, return all the triplets [nums[i], nums[j], nums[k]] such that i != j, i != k, and j != k, and nums[i] + nums[j] + nums[k] == 0.\n",
        "\n",
        "Notice that the solution set must not contain duplicate triplets.\n",
        "\n"
      ],
      "metadata": {
        "id": "fsC_YuFjDVd9"
      }
    },
    {
      "cell_type": "markdown",
      "source": [
        "Example1: Input: nums = [-1,0,1,2,-1,-4]\n",
        "Output: [[-1,-1,2],[-1,0,1]]\n",
        "Explanation:\n",
        "nums[0] + nums[1] + nums[2] = (-1) + 0 + 1 = 0.\n",
        "nums[1] + nums[2] + nums[4] = 0 + 1 + (-1) = 0.\n",
        "nums[0] + nums[3] + nums[4] = (-1) + 2 + (-1) = 0.\n",
        "The distinct triplets are [-1,0,1] and [-1,-1,2].\n",
        "Notice that the order of the output and the order of the triplets does not matter.\n"
      ],
      "metadata": {
        "id": "kIF7xZ1PEHSU"
      }
    },
    {
      "cell_type": "markdown",
      "source": [
        "Example2: Input: nums = [0,1,1]\n",
        "Output: []\n",
        "Explanation: The only possible triplet does not sum up to 0.\n"
      ],
      "metadata": {
        "id": "iyKjuqh2EOnn"
      }
    },
    {
      "cell_type": "markdown",
      "source": [
        "Example3:Input: nums = [0,0,0]\n",
        "Output: [[0,0,0]]\n",
        "Explanation: The only possible triplet sums up to 0.\n"
      ],
      "metadata": {
        "id": "BSe4J7zCEW8x"
      }
    },
    {
      "cell_type": "markdown",
      "source": [
        "1. If the length of the nums array<=2, it means it does not have a triplet, so we can return []\n",
        "2. Else, sort the nums array so that we can proceed further. This will take nlog(n) time\n",
        "3. Linearly iterate over the list from the first item till second last element, and set the low and high pointers to low +1 and length(nums) resp\n",
        "4. Set the low pointer as i+1 and the high pointer as the end of the list\n",
        "5. Repeat the process till low < high\n",
        "6. If the sum of three numbers == 0, add that element to the list, sort it and add them to a set (as we need to return the unique set)\n",
        "7. If the sum of three numbers < 0, it means we need to move towards the right (as nums are sorted in ascending order), so decrement the high pointer\n",
        "8. If the sum of three numbers > 0, it means we need to move towards the left, so increment the low pointer\n",
        "9. Return result set\n"
      ],
      "metadata": {
        "id": "BbT_o1MQEdMu"
      }
    },
    {
      "cell_type": "code",
      "source": [
        "class Solution:\n",
        "    def threeSum(self, nums: List[int]) -> List[List[int]]:\n",
        "        if len(nums) <= 2:\n",
        "            return []\n",
        "\n",
        "        result = []\n",
        "        nums = sorted(nums)\n",
        "\n",
        "        for x in range(len(nums) - 2):\n",
        "            if x > 0 and nums[x] == nums[x - 1]:\n",
        "                continue  # Skip duplicate elements\n",
        "\n",
        "            b = x + 1\n",
        "            e = len(nums) - 1\n",
        "\n",
        "            while b < e:\n",
        "                val = nums[x] + nums[b] + nums[e]\n",
        "\n",
        "                if val == 0:\n",
        "                    result.append([nums[x], nums[b], nums[e]])\n",
        "\n",
        "                    while b < e and nums[b] == nums[b + 1]:\n",
        "                        b += 1\n",
        "                    while b < e and nums[e] == nums[e - 1]:\n",
        "                        e -= 1\n",
        "\n",
        "                    b += 1\n",
        "                    e -= 1\n",
        "\n",
        "                elif val < 0:\n",
        "                    b += 1\n",
        "                else:\n",
        "                    e -= 1\n",
        "\n",
        "        return result"
      ],
      "metadata": {
        "id": "HJnqx_rFEkzY"
      },
      "execution_count": null,
      "outputs": []
    },
    {
      "cell_type": "markdown",
      "source": [
        "Runtime\n",
        "\n",
        "1122ms\n",
        "Beats 47.92%of users with Python3\n",
        "\n",
        "Memory\n",
        "\n",
        "20.34MB\n",
        "Beats 73.20%of users with Python3"
      ],
      "metadata": {
        "id": "1KNdM_R2F_Ed"
      }
    },
    {
      "cell_type": "markdown",
      "source": [],
      "metadata": {
        "id": "C0c90C0DGahw"
      }
    },
    {
      "cell_type": "markdown",
      "source": [
        "**383. Ransom Note**\n"
      ],
      "metadata": {
        "id": "Fh1C_4IrRCae"
      }
    },
    {
      "cell_type": "markdown",
      "source": [
        "Given two strings ransomNote and magazine, return true if ransomNote can be constructed by using the letters from magazine and false otherwise.\n",
        "\n",
        "Each letter in magazine can only be used once in ransomNote.\n",
        "\n",
        "\n",
        "\n",
        "Example 1:\n",
        "\n",
        "Input: ransomNote = \"a\", magazine = \"b\"\n",
        "Output: false\n",
        "Example 2:\n",
        "\n",
        "Input: ransomNote = \"aa\", magazine = \"ab\"\n",
        "Output: false\n",
        "Example 3:\n",
        "\n",
        "Input: ransomNote = \"aa\", magazine = \"aab\"\n",
        "Output: true"
      ],
      "metadata": {
        "id": "KIVFi4HrRE0I"
      }
    },
    {
      "cell_type": "code",
      "source": [
        "lass Solution:\n",
        "    def canConstruct(self, ransomNote: str, magazine: str) -> bool:\n",
        "        note,mag = Counter(ransomNote), Counter(magazine)\n",
        "        if note & mag == note: return True\n",
        "        return False"
      ],
      "metadata": {
        "id": "Y0dh9ho5RKrT"
      },
      "execution_count": null,
      "outputs": []
    },
    {
      "cell_type": "markdown",
      "source": [
        "**205. Isomorphic Strings**"
      ],
      "metadata": {
        "id": "Nw6SsPBbUz07"
      }
    },
    {
      "cell_type": "markdown",
      "source": [
        "Given two strings s and t, determine if they are isomorphic.\n",
        "\n",
        "Two strings s and t are isomorphic if the characters in s can be replaced to get t.\n",
        "\n",
        "All occurrences of a character must be replaced with another character while preserving the order of characters. No two characters may map to the same character, but a character may map to itself.\n",
        "\n",
        "\n",
        "\n",
        "Example 1:\n",
        "\n",
        "Input: s = \"egg\", t = \"add\"\n",
        "Output: true\n",
        "Example 2:\n",
        "\n",
        "Input: s = \"foo\", t = \"bar\"\n",
        "Output: false\n",
        "Example 3:\n",
        "\n",
        "Input: s = \"paper\", t = \"title\"\n",
        "Output: true"
      ],
      "metadata": {
        "id": "dGT6bTGgU8c0"
      }
    },
    {
      "cell_type": "code",
      "source": [
        "class Solution:\n",
        "  def isIsomorphic(self, s: str, t: str) -> bool:\n",
        "        # Check if the number of unique characters in the strings are equal\n",
        "        if len(set(s)) != len(set(t)):\n",
        "            return False\n",
        "\n",
        "        # Check if the mapping between characters is unique\n",
        "        char_map = {}\n",
        "        for i in range(len(s)):\n",
        "            if s[i] not in char_map:\n",
        "                char_map[s[i]] = t[i]\n",
        "            elif char_map[s[i]] != t[i]:\n",
        "                return False\n",
        "        return True"
      ],
      "metadata": {
        "id": "GxoY7mlFVCXx"
      },
      "execution_count": null,
      "outputs": []
    },
    {
      "cell_type": "markdown",
      "source": [
        "**290. Word Pattern**\n"
      ],
      "metadata": {
        "id": "Srek7PJg3bA0"
      }
    },
    {
      "cell_type": "markdown",
      "source": [
        "Given a pattern and a string s, find if s follows the same pattern.\n",
        "\n",
        "Here follow means a full match, such that there is a bijection between a letter in pattern and a non-empty word in s.\n",
        "\n",
        "\n",
        "\n",
        "Example 1:\n",
        "\n",
        "Input: pattern = \"abba\", s = \"dog cat cat dog\"\n",
        "Output: true\n",
        "Example 2:\n",
        "\n",
        "Input: pattern = \"abba\", s = \"dog cat cat fish\"\n",
        "Output: false\n",
        "Example 3:\n",
        "\n",
        "Input: pattern = \"aaaa\", s = \"dog cat cat dog\"\n",
        "Output: false"
      ],
      "metadata": {
        "id": "ickhoNql3dGK"
      }
    },
    {
      "cell_type": "code",
      "source": [
        "class Solution:\n",
        "    def wordPattern(self, pattern: str, s: str) -> bool:\n",
        "        hm = {}\n",
        "\n",
        "        # we need to split the s over the space(\" \")\n",
        "        s = s.split(\" \")\n",
        "\n",
        "        # if the lengths of pattern and s are not same then return False\n",
        "        if len(s) != len(pattern):\n",
        "            return False\n",
        "\n",
        "        # loop over both pattern and s at same time using the index, as they are of same length\n",
        "        for i in range(len(s)):\n",
        "\n",
        "            pv, sv = \"pat\"+pattern[i] , \"str\"+s[i]\n",
        "\n",
        "            # add the pattern value and s value if its not in hashmap\n",
        "            if pv not in hm:\n",
        "                hm[pv] = i\n",
        "\n",
        "            if sv not in hm:\n",
        "                hm[sv] = i\n",
        "\n",
        "            # if both are not returning the same index, it means the pattern is not being followed\n",
        "            if hm[sv] != hm[pv]:\n",
        "                return False\n",
        "\n",
        "        return True"
      ],
      "metadata": {
        "id": "C_qDoxHi3g07"
      },
      "execution_count": null,
      "outputs": []
    },
    {
      "cell_type": "markdown",
      "source": [
        "**242. Valid Anagram**\n"
      ],
      "metadata": {
        "id": "rcqjgkyr375k"
      }
    },
    {
      "cell_type": "markdown",
      "source": [
        "Given two strings s and t, return true if t is an anagram of s, and false otherwise.\n",
        "\n",
        "An Anagram is a word or phrase formed by rearranging the letters of a different word or phrase, typically using all the original letters exactly once.\n",
        "\n",
        "\n",
        "\n",
        "Example 1:\n",
        "\n",
        "Input: s = \"anagram\", t = \"nagaram\"\n",
        "Output: true\n",
        "Example 2:\n",
        "\n",
        "Input: s = \"rat\", t = \"car\"\n",
        "Output: false"
      ],
      "metadata": {
        "id": "Bg6kxkod39gA"
      }
    },
    {
      "cell_type": "code",
      "source": [
        "class Solution:\n",
        "    def isAnagram(self, s: str, t: str) -> bool:\n",
        "        if len(s) != len(t):\n",
        "            return False\n",
        "        countS = {}\n",
        "        countT = {}\n",
        "        for i in range(len(s)):\n",
        "            countS[s[i]] = 1 + countS.get(s[i], 0)\n",
        "            countT[t[i]] = 1 + countT.get(t[i], 0)\n",
        "        if (countS == countT):\n",
        "            return True\n",
        "        else:\n",
        "            return False"
      ],
      "metadata": {
        "id": "EFewgwTz4FNo"
      },
      "execution_count": null,
      "outputs": []
    },
    {
      "cell_type": "markdown",
      "source": [
        "**49. Group Anagrams**\n"
      ],
      "metadata": {
        "id": "xHwDeU7z5vhu"
      }
    },
    {
      "cell_type": "markdown",
      "source": [
        "Given an array of strings strs, group the anagrams together. You can return the answer in any order.\n",
        "\n",
        "An Anagram is a word or phrase formed by rearranging the letters of a different word or phrase, typically using all the original letters exactly once.\n",
        "\n",
        "\n",
        "\n",
        "Example 1:\n",
        "\n",
        "Input: strs = [\"eat\",\"tea\",\"tan\",\"ate\",\"nat\",\"bat\"]\n",
        "Output: [[\"bat\"],[\"nat\",\"tan\"],[\"ate\",\"eat\",\"tea\"]]\n",
        "\n",
        "Example 2:\n",
        "\n",
        "Input: strs = [\"\"]\n",
        "Output: [[\"\"]]\n",
        "\n",
        "Example 3:\n",
        "\n",
        "Input: strs = [\"a\"]\n",
        "Output: [[\"a\"]]"
      ],
      "metadata": {
        "id": "12q3-DbI5xRM"
      }
    },
    {
      "cell_type": "code",
      "source": [
        "class Solution:\n",
        "    def groupAnagrams(self, strs: List[str]) -> List[List[str]]:\n",
        "        if len(strs) == 0:\n",
        "            return []\n",
        "\n",
        "        c_dict = {}\n",
        "\n",
        "        for word in strs:\n",
        "            freq_list = [0]*26\n",
        "\n",
        "            for c in word:\n",
        "                freq_list[ord(c)-ord('a')] += 1    # increment counter for freq in list\n",
        "\n",
        "            freq_list = tuple(freq_list) # as tuple is immutable and can be used as key in dict\n",
        "\n",
        "            if freq_list not in c_dict.keys():\n",
        "                c_dict[freq_list] = [word]     # add the first word in the list\n",
        "            else:\n",
        "                c_dict[freq_list].append(word)  # add more anagrams to the list\n",
        "\n",
        "        return c_dict.values()"
      ],
      "metadata": {
        "id": "eTZdbhaM541e"
      },
      "execution_count": null,
      "outputs": []
    },
    {
      "cell_type": "markdown",
      "source": [
        "**202. Happy Number**"
      ],
      "metadata": {
        "id": "njff4cZR65BF"
      }
    },
    {
      "cell_type": "markdown",
      "source": [
        "Write an algorithm to determine if a number n is happy.\n",
        "\n",
        "A happy number is a number defined by the following process:\n",
        "\n",
        "Starting with any positive integer, replace the number by the sum of the squares of its digits.\n",
        "Repeat the process until the number equals 1 (where it will stay), or it loops endlessly in a cycle which does not include 1.\n",
        "Those numbers for which this process ends in 1 are happy.\n",
        "Return true if n is a happy number, and false if not.\n",
        "\n",
        "\n",
        "\n",
        "Example 1:\n",
        "\n",
        "Input: n = 19\n",
        "Output: true\n",
        "Explanation:\n",
        "12 + 92 = 82\n",
        "82 + 22 = 68\n",
        "62 + 82 = 100\n",
        "12 + 02 + 02 = 1\n",
        "Example 2:\n",
        "\n",
        "Input: n = 2\n",
        "Output: false"
      ],
      "metadata": {
        "id": "G42R0ElV69u6"
      }
    },
    {
      "cell_type": "code",
      "source": [
        "class Solution:\n",
        "    def isHappy(self, n: int) -> bool:\n",
        "        s = set()\n",
        "        while n != 1:\n",
        "            if n in s: return False\n",
        "            s.add(n)\n",
        "            n = sum([int(i) ** 2 for i in str(n)])\n",
        "        else:\n",
        "            return True"
      ],
      "metadata": {
        "id": "z_rq7OVN7C5P"
      },
      "execution_count": null,
      "outputs": []
    },
    {
      "cell_type": "markdown",
      "source": [
        "**219. Contains Duplicate II**\n"
      ],
      "metadata": {
        "id": "5y3Hk37IkLmX"
      }
    },
    {
      "cell_type": "markdown",
      "source": [
        "Given an integer array nums and an integer k, return true if there are two distinct indices i and j in the array such that nums[i] == nums[j] and abs(i - j) <= k.\n",
        "\n",
        "\n",
        "\n",
        "Example 1:\n",
        "\n",
        "Input: nums = [1,2,3,1], k = 3\n",
        "Output: true\n",
        "Example 2:\n",
        "\n",
        "Input: nums = [1,0,1,1], k = 1\n",
        "Output: true\n",
        "Example 3:\n",
        "\n",
        "Input: nums = [1,2,3,1,2,3], k = 2\n",
        "Output: false"
      ],
      "metadata": {
        "id": "NFHlq_StkPo2"
      }
    },
    {
      "cell_type": "code",
      "source": [
        "lass Solution:\n",
        "    def containsNearbyDuplicate(self, nums: List[int], k: int) -> bool:\n",
        "        dic={}\n",
        "        for pos,val in enumerate(nums):\n",
        "            if val in dic:\n",
        "                if pos-dic[val]<=k:\n",
        "                    return True\n",
        "            dic[val]=pos\n",
        "        return False\n"
      ],
      "metadata": {
        "id": "QsLFjS8PkTuL"
      },
      "execution_count": null,
      "outputs": []
    },
    {
      "cell_type": "markdown",
      "source": [
        "**128. Longest Consecutive Sequence**"
      ],
      "metadata": {
        "id": "-SNMMBaAmZZQ"
      }
    },
    {
      "cell_type": "markdown",
      "source": [
        "Given an unsorted array of integers nums, return the length of the longest consecutive elements sequence.\n",
        "\n",
        "You must write an algorithm that runs in O(n) time.\n",
        "\n",
        "\n",
        "\n",
        "Example 1:\n",
        "\n",
        "Input: nums = [100,4,200,1,3,2]\n",
        "Output: 4\n",
        "Explanation: The longest consecutive elements sequence is [1, 2, 3, 4]. Therefore its length is 4.\n",
        "Example 2:\n",
        "\n",
        "Input: nums = [0,3,7,2,5,8,4,6,0,1]\n",
        "Output: 9"
      ],
      "metadata": {
        "id": "RqvMzoBCmbFq"
      }
    },
    {
      "cell_type": "code",
      "source": [
        "class Solution:\n",
        "    def longestConsecutive(self, nums: List[int]) -> int:\n",
        "        nums_set=set(nums)\n",
        "        max_consecutive_length=0\n",
        "        nums=list(nums_set)\n",
        "        for i in range(len(nums)):\n",
        "            if nums[i]-1 in nums_set:\n",
        "                continue\n",
        "            current_length=1\n",
        "            temp=nums[i]\n",
        "            while(temp+1 in nums_set):\n",
        "                current_length+=1\n",
        "                temp+=1\n",
        "            max_consecutive_length=max(max_consecutive_length,current_length)\n",
        "        return max_consecutive_length"
      ],
      "metadata": {
        "id": "UZOS2i1amn99"
      },
      "execution_count": null,
      "outputs": []
    },
    {
      "cell_type": "markdown",
      "source": [
        "**228. Summary Ranges**"
      ],
      "metadata": {
        "id": "4yMc5F_5p7uW"
      }
    },
    {
      "cell_type": "markdown",
      "source": [
        "You are given a sorted unique integer array nums.\n",
        "\n",
        "A range [a,b] is the set of all integers from a to b (inclusive).\n",
        "\n",
        "Return the smallest sorted list of ranges that cover all the numbers in the array exactly. That is, each element of nums is covered by exactly one of the ranges, and there is no integer x such that x is in one of the ranges but not in nums.\n",
        "\n",
        "Each range [a,b] in the list should be output as:\n",
        "\n",
        "\"a->b\" if a != b\n",
        "\"a\" if a == b\n",
        "\n",
        "\n",
        "Example 1:\n",
        "\n",
        "Input: nums = [0,1,2,4,5,7]\n",
        "Output: [\"0->2\",\"4->5\",\"7\"]\n",
        "Explanation: The ranges are:\n",
        "[0,2] --> \"0->2\"\n",
        "[4,5] --> \"4->5\"\n",
        "[7,7] --> \"7\"\n",
        "Example 2:\n",
        "\n",
        "Input: nums = [0,2,3,4,6,8,9]\n",
        "Output: [\"0\",\"2->4\",\"6\",\"8->9\"]\n",
        "Explanation: The ranges are:\n",
        "[0,0] --> \"0\"\n",
        "[2,4] --> \"2->4\"\n",
        "[6,6] --> \"6\"\n",
        "[8,9] --> \"8->9\""
      ],
      "metadata": {
        "id": "qcdXHWkfp_jT"
      }
    },
    {
      "cell_type": "code",
      "source": [
        "class Solution:\n",
        "    def summaryRanges(self, nums: List[int]) -> List[str]:\n",
        "        l = len(nums)\n",
        "        if l == 0:\n",
        "            return []\n",
        "        nums.append(float('inf'))\n",
        "        res, start = [], 0\n",
        "        for i in range(l):\n",
        "            if nums[i + 1] != nums[i] + 1:\n",
        "                res.append(str(nums[i]) if i == start else \"%s->%s\" % (nums[start], nums[i]))\n",
        "                start = i + 1\n",
        "        return res"
      ],
      "metadata": {
        "id": "tb5qhBFjqCzS"
      },
      "execution_count": null,
      "outputs": []
    },
    {
      "cell_type": "markdown",
      "source": [
        "**209. Minimum Size Subarray Sum**\n"
      ],
      "metadata": {
        "id": "_8m8bW-iGP8c"
      }
    },
    {
      "cell_type": "markdown",
      "source": [
        "Given an array of positive integers nums and a positive integer target, return the minimal length of a\n",
        "subarray\n",
        " whose sum is greater than or equal to target. If there is no such subarray, return 0 instead.\n",
        "\n",
        "\n",
        "\n",
        "Example 1:\n",
        "\n",
        "Input: target = 7, nums = [2,3,1,2,4,3]\n",
        "Output: 2\n",
        "Explanation: The subarray [4,3] has the minimal length under the problem constraint.\n",
        "Example 2:\n",
        "\n",
        "Input: target = 4, nums = [1,4,4]\n",
        "Output: 1\n",
        "Example 3:\n",
        "\n",
        "Input: target = 11, nums = [1,1,1,1,1,1,1,1]\n",
        "Output: 0"
      ],
      "metadata": {
        "id": "8qXWvVaGGRR4"
      }
    },
    {
      "cell_type": "code",
      "source": [
        "class Solution:\n",
        "    def minSubArrayLen(self, target: int, nums: List[int]) -> int:\n",
        "        min_end=0\n",
        "        min_len=len(nums)\n",
        "        w_sum=nums[0]\n",
        "\n",
        "        if sum(nums)<target: return 0\n",
        "        if nums[-1]>=target: return 1\n",
        "\n",
        "        for i in range(len(nums)-1):\n",
        "            if i>0:\n",
        "                w_sum-=nums[i-1]\n",
        "            if i>min_end:\n",
        "                min_end=i\n",
        "            while min_end<len(nums):\n",
        "                if w_sum<target:\n",
        "                    min_end+=1\n",
        "                    if min_end==len(nums):break\n",
        "                    w_sum+=nums[min_end]\n",
        "                if w_sum>=target:\n",
        "                    min_len=min(min_len,min_end-i+1)\n",
        "                    break\n",
        "        return min_len"
      ],
      "metadata": {
        "id": "CJLTW7mcGUli"
      },
      "execution_count": null,
      "outputs": []
    },
    {
      "cell_type": "markdown",
      "source": [
        "**104. Maximum Depth of Binary Tree**\n"
      ],
      "metadata": {
        "id": "KSGWALLDI2iR"
      }
    },
    {
      "cell_type": "markdown",
      "source": [
        "Given the root of a binary tree, return its maximum depth.\n",
        "\n",
        "A binary tree's maximum depth is the number of nodes along the longest path from the root node down to the farthest leaf node."
      ],
      "metadata": {
        "id": "LxoKoINuI6Jj"
      }
    },
    {
      "cell_type": "markdown",
      "source": [
        "Example 1:\n",
        "Input: root = [3,9,20,null,null,15,7]\n",
        "Output: 3\n",
        "Example 2:\n",
        "Input: root = [1,null,2]\n",
        "Output: 2"
      ],
      "metadata": {
        "id": "HkkfQGR4I9_6"
      }
    },
    {
      "cell_type": "code",
      "source": [
        "class Solution:\n",
        "    def maxDepth(self, root: Optional[TreeNode]) -> int:\n",
        "        def dfs(root, depth):\n",
        "\n",
        "            if not root: return depth\n",
        "            return max(dfs(root.left, depth + 1), dfs(root.right, depth + 1))\n",
        "\n",
        "        return dfs(root, 0)"
      ],
      "metadata": {
        "id": "YHZMgW72JLui"
      },
      "execution_count": null,
      "outputs": []
    },
    {
      "cell_type": "markdown",
      "source": [
        "**226. Invert Binary Tree**\n"
      ],
      "metadata": {
        "id": "8YFcDAaLKR3_"
      }
    },
    {
      "cell_type": "markdown",
      "source": [
        "Given the root of a binary tree, invert the tree, and return its root.\n",
        "Example 1:\n",
        "Input: root = [4,2,7,1,3,6,9]\n",
        "Output: [4,7,2,9,6,3,1]\n",
        "Example 2:\n",
        "Input: root = [2,1,3]\n",
        "Output: [2,3,1]\n",
        "Example 3:\n",
        "Input: root = []\n",
        "Output: []"
      ],
      "metadata": {
        "id": "OfjU9TpHKUJV"
      }
    },
    {
      "cell_type": "code",
      "source": [
        "class Solution:\n",
        "    def invertTree(self, root: Optional[TreeNode]) -> Optional[TreeNode]:\n",
        "        if not root:\n",
        "            return None\n",
        "\n",
        "        left = root.left\n",
        "        right = root.right\n",
        "        root.left = self.invertTree(right)\n",
        "        root.right = self.invertTree(left)\n",
        "        return root"
      ],
      "metadata": {
        "id": "qYpRcd9TKsj2"
      },
      "execution_count": null,
      "outputs": []
    },
    {
      "cell_type": "markdown",
      "source": [
        "**100. Same Tree**\n"
      ],
      "metadata": {
        "id": "TLjMfDNKLc-w"
      }
    },
    {
      "cell_type": "markdown",
      "source": [
        "Given the roots of two binary trees p and q, write a function to check if they are the same or not.\n",
        "\n",
        "Two binary trees are considered the same if they are structurally identical, and the nodes have the same value.\n",
        "\n",
        "\n",
        "\n",
        "Example 1:\n",
        "Input: p = [1,2,3], q = [1,2,3]\n",
        "Output: true\n",
        "Example 2:\n",
        "Input: p = [1,2], q = [1,null,2]\n",
        "Output: false\n",
        "Example 3:\n",
        "Input: p = [1,2,1], q = [1,1,2]\n",
        "Output: false"
      ],
      "metadata": {
        "id": "JYk7Hi6HLerY"
      }
    },
    {
      "cell_type": "code",
      "source": [
        "class Solution:\n",
        "    def isSameTree(self, p: Optional[TreeNode], q: Optional[TreeNode]) -> bool:\n",
        "        if not p or not q:\n",
        "            return p == q\n",
        "\n",
        "        return p.val == q.val and \\\n",
        "            self.isSameTree(p.left, q.left) and \\\n",
        "            self.isSameTree(p.right, q.right)"
      ],
      "metadata": {
        "id": "BT8X3DR_LsRS"
      },
      "execution_count": null,
      "outputs": []
    },
    {
      "cell_type": "markdown",
      "source": [
        "**101. Symmetric Tree**\n"
      ],
      "metadata": {
        "id": "SoqnGHi26VEw"
      }
    },
    {
      "cell_type": "markdown",
      "source": [
        "Given the root of a binary tree, check whether it is a mirror of itself (i.e., symmetric around its center)."
      ],
      "metadata": {
        "id": "WbZ1qcBR6XBC"
      }
    },
    {
      "cell_type": "code",
      "source": [
        "class Solution:\n",
        "    def isSymmetric(self, root: Optional[TreeNode]) -> bool:\n",
        "        def isSymmetric(p: Optional[TreeNode], q: Optional[TreeNode]) -> bool:\n",
        "          if not p or not q:\n",
        "            return p == q\n",
        "\n",
        "          return p.val == q.val and \\\n",
        "            isSymmetric(p.left, q.right) and \\\n",
        "            isSymmetric(p.right, q.left)\n",
        "        return isSymmetric(root, root)"
      ],
      "metadata": {
        "id": "XiyHW9rU6aDg"
      },
      "execution_count": null,
      "outputs": []
    },
    {
      "cell_type": "markdown",
      "source": [
        "**105. Construct Binary Tree from Preorder and Inorder Traversal**\n"
      ],
      "metadata": {
        "id": "DE864DOQ7BuM"
      }
    },
    {
      "cell_type": "markdown",
      "source": [
        "Given two integer arrays preorder and inorder where preorder is the preorder traversal of a binary tree and inorder is the inorder traversal of the same tree, construct and return the binary tree."
      ],
      "metadata": {
        "id": "Ha-amZqS7Dwr"
      }
    },
    {
      "cell_type": "code",
      "source": [
        "class Solution:\n",
        "  def buildTree(self, preorder: List[int], inorder: List[int]) -> Optional[TreeNode]:\n",
        "    inToIndex = {num: i for i, num in enumerate(inorder)}\n",
        "\n",
        "    def build(preStart: int, preEnd: int, inStart: int, inEnd: int) -> Optional[TreeNode]:\n",
        "      if preStart > preEnd:\n",
        "        return None\n",
        "\n",
        "      rootVal = preorder[preStart]\n",
        "      rootInIndex = inToIndex[rootVal]\n",
        "      leftSize = rootInIndex - inStart\n",
        "\n",
        "      root = TreeNode(rootVal)\n",
        "      root.left = build(preStart + 1, preStart + leftSize,\n",
        "                        inStart, rootInIndex - 1)\n",
        "      root.right = build(preStart + leftSize + 1,\n",
        "                         preEnd, rootInIndex + 1, inEnd)\n",
        "      return root\n",
        "\n",
        "    return build(0, len(preorder) - 1, 0, len(inorder) - 1)"
      ],
      "metadata": {
        "id": "C4CEz2iN7Hy6"
      },
      "execution_count": null,
      "outputs": []
    },
    {
      "cell_type": "markdown",
      "source": [
        "**106. Construct Binary Tree from Inorder and Postorder Traversal**\n"
      ],
      "metadata": {
        "id": "rS_sqOxn7lzp"
      }
    },
    {
      "cell_type": "markdown",
      "source": [
        "Given two integer arrays inorder and postorder where inorder is the inorder traversal of a binary tree and postorder is the postorder traversal of the same tree, construct and return the binary tree."
      ],
      "metadata": {
        "id": "sm_6skWe7naU"
      }
    },
    {
      "cell_type": "code",
      "source": [
        "class Solution:\n",
        "  def buildTree(self, inorder: List[int], postorder: List[int]) -> Optional[TreeNode]:\n",
        "    inToIndex = {num: i for i, num in enumerate(inorder)}\n",
        "\n",
        "    def build(inStart: int, inEnd: int, postStart: int, postEnd: int) -> Optional[TreeNode]:\n",
        "      if inStart > inEnd:\n",
        "        return None\n",
        "\n",
        "      rootVal = postorder[postEnd]\n",
        "\n",
        "      rootInIndex = inToIndex[rootVal]\n",
        "\n",
        "      leftSize = rootInIndex - inStart\n",
        "\n",
        "      root = TreeNode(rootVal)\n",
        "\n",
        "      root.left = build(inStart, rootInIndex - 1,  postStart,\n",
        "                        postStart + leftSize - 1)\n",
        "      root.right = build(rootInIndex + 1, inEnd,  postStart + leftSize,\n",
        "                         postEnd - 1)\n",
        "      return root\n",
        "\n",
        "    return build(0, len(inorder) - 1, 0, len(postorder) - 1)"
      ],
      "metadata": {
        "id": "V4t7Vkn67qZu"
      },
      "execution_count": null,
      "outputs": []
    },
    {
      "cell_type": "markdown",
      "source": [
        "Ok. Some solutions I can't understand, but I'll try"
      ],
      "metadata": {
        "id": "1v0zUKOw85rh"
      }
    },
    {
      "cell_type": "markdown",
      "source": [
        "**117. Populating Next Right Pointers in Each Node II**\n"
      ],
      "metadata": {
        "id": "srTNgacwx5vO"
      }
    },
    {
      "cell_type": "markdown",
      "source": [
        "Given a binary tree\n",
        "\n",
        "struct Node {\n",
        "  int val;\n",
        "  Node *left;\n",
        "  Node *right;\n",
        "  Node *next;\n",
        "}\n",
        "Populate each next pointer to point to its next right node. If there is no next right node, the next pointer should be set to NULL.\n",
        "\n",
        "Initially, all next pointers are set to NULL."
      ],
      "metadata": {
        "id": "6h85Hyxkx7M4"
      }
    },
    {
      "cell_type": "code",
      "source": [
        "class Solution:\n",
        "  def connect(self, root: 'Node') -> 'Node':\n",
        "    node = root  # The node just above current needling\n",
        "\n",
        "    while node:\n",
        "      dummy = Node(0)  # Dummy node before needling\n",
        "      # Needle children of node\n",
        "      needle = dummy\n",
        "      while node:\n",
        "        if node.left:  # Needle left child\n",
        "          needle.next = node.left\n",
        "          needle = needle.next\n",
        "        if node.right:  # Needle right child\n",
        "          needle.next = node.right\n",
        "          needle = needle.next\n",
        "        node = node.next\n",
        "      node = dummy.next  # Move node to the next level\n",
        "\n",
        "    return root"
      ],
      "metadata": {
        "id": "1dWUJOwsx-eq"
      },
      "execution_count": null,
      "outputs": []
    },
    {
      "cell_type": "markdown",
      "source": [
        "**114. Flatten Binary Tree to Linked List**\n"
      ],
      "metadata": {
        "id": "V_z-SIrnyVV7"
      }
    },
    {
      "cell_type": "markdown",
      "source": [
        "Given the root of a binary tree, flatten the tree into a \"linked list\":\n",
        "\n",
        "The \"linked list\" should use the same TreeNode class where the right child pointer points to the next node in the list and the left child pointer is always null.\n",
        "The \"linked list\" should be in the same order as a pre-order traversal of the binary tree."
      ],
      "metadata": {
        "id": "f3hSUhL0yWyy"
      }
    },
    {
      "cell_type": "code",
      "source": [
        "class Solution:\n",
        "  def flatten(self, root: Optional[TreeNode]) -> None:\n",
        "    if not root:\n",
        "      return\n",
        "\n",
        "    self.flatten(root.left)\n",
        "    self.flatten(root.right)\n",
        "\n",
        "    left = root.left  # Flattened left\n",
        "    right = root.right  # Flattened right\n",
        "\n",
        "    root.left = None\n",
        "    root.right = left\n",
        "\n",
        "    rightmost = root\n",
        "    while rightmost.right:\n",
        "      rightmost = rightmost.right\n",
        "    rightmost.right = right"
      ],
      "metadata": {
        "id": "bYOCmZruyZcU"
      },
      "execution_count": null,
      "outputs": []
    },
    {
      "cell_type": "markdown",
      "source": [
        "**112. Path Sum**\n"
      ],
      "metadata": {
        "id": "50kEksElywOb"
      }
    },
    {
      "cell_type": "markdown",
      "source": [
        "Given the root of a binary tree and an integer targetSum, return true if the tree has a root-to-leaf path such that adding up all the values along the path equals targetSum.\n",
        "\n",
        "A leaf is a node with no children."
      ],
      "metadata": {
        "id": "ZobvaOC1yxla"
      }
    },
    {
      "cell_type": "code",
      "source": [
        "class Solution:\n",
        "  def hasPathSum(self, root: TreeNode, summ: int) -> bool:\n",
        "    if not root:\n",
        "      return False\n",
        "\n",
        "    if root.val == summ and not root.left and not root.right:\n",
        "      return True\n",
        "\n",
        "    return self.hasPathSum(root.left, summ - root.val) or \\\n",
        "        self.hasPathSum(root.right, summ - root.val)"
      ],
      "metadata": {
        "id": "NwfFixUyy1MY"
      },
      "execution_count": null,
      "outputs": []
    },
    {
      "cell_type": "markdown",
      "source": [
        "**56. Merge Intervals**\n"
      ],
      "metadata": {
        "id": "BumYvDjj5vv9"
      }
    },
    {
      "cell_type": "markdown",
      "source": [
        "Given an array of intervals where intervals[i] = [starti, endi], merge all overlapping intervals, and return an array of the non-overlapping intervals that cover all the intervals in the input.\n",
        "\n",
        "\n",
        "\n",
        "Example 1:\n",
        "\n",
        "Input: intervals = [[1,3],[2,6],[8,10],[15,18]]\n",
        "Output: [[1,6],[8,10],[15,18]]\n",
        "Explanation: Since intervals [1,3] and [2,6] overlap, merge them into [1,6].\n",
        "Example 2:\n",
        "\n",
        "Input: intervals = [[1,4],[4,5]]\n",
        "Output: [[1,5]]\n",
        "Explanation: Intervals [1,4] and [4,5] are considered overlapping."
      ],
      "metadata": {
        "id": "-Su7Sg0L5w1s"
      }
    },
    {
      "cell_type": "code",
      "source": [
        "class Solution:\n",
        "  def merge(self, intervals: List[List[int]]) -> List[List[int]]:\n",
        "    ans = []\n",
        "\n",
        "    for interval in sorted(intervals):\n",
        "      if not ans or ans[-1][1] < interval[0]:\n",
        "        ans.append(interval)\n",
        "      else:\n",
        "        ans[-1][1] = max(ans[-1][1], interval[1])\n",
        "\n",
        "    return ans"
      ],
      "metadata": {
        "id": "avxay-ht50XS"
      },
      "execution_count": null,
      "outputs": []
    },
    {
      "cell_type": "markdown",
      "source": [
        "**57. Insert Interval**\n"
      ],
      "metadata": {
        "id": "v_REiJai6A3R"
      }
    },
    {
      "cell_type": "markdown",
      "source": [
        "You are given an array of non-overlapping intervals intervals where intervals[i] = [starti, endi] represent the start and the end of the ith interval and intervals is sorted in ascending order by starti. You are also given an interval newInterval = [start, end] that represents the start and end of another interval.\n",
        "\n",
        "Insert newInterval into intervals such that intervals is still sorted in ascending order by starti and intervals still does not have any overlapping intervals (merge overlapping intervals if necessary).\n",
        "\n",
        "Return intervals after the insertion.\n",
        "\n",
        "\n",
        "\n",
        "Example 1:\n",
        "\n",
        "Input: intervals = [[1,3],[6,9]], newInterval = [2,5]\n",
        "Output: [[1,5],[6,9]]\n",
        "Example 2:\n",
        "\n",
        "Input: intervals = [[1,2],[3,5],[6,7],[8,10],[12,16]], newInterval = [4,8]\n",
        "Output: [[1,2],[3,10],[12,16]]\n",
        "Explanation: Because the new interval [4,8] overlaps with [3,5],[6,7],[8,10]."
      ],
      "metadata": {
        "id": "-QVMyufT6Gr4"
      }
    },
    {
      "cell_type": "code",
      "source": [
        "class Solution:\n",
        "  def insert(self, intervals: List[List[int]], newInterval: List[int]) -> List[List[int]]:\n",
        "    n = len(intervals)\n",
        "    ans = []\n",
        "    i = 0\n",
        "\n",
        "    while i < n and intervals[i][1] < newInterval[0]:\n",
        "      ans.append(intervals[i])\n",
        "      i += 1\n",
        "\n",
        "    while i < n and intervals[i][0] <= newInterval[1]:\n",
        "      newInterval[0] = min(newInterval[0], intervals[i][0])\n",
        "      newInterval[1] = max(newInterval[1], intervals[i][1])\n",
        "      i += 1\n",
        "    ans.append(newInterval)\n",
        "\n",
        "    while i < n:\n",
        "      ans.append(intervals[i])\n",
        "      i += 1\n",
        "\n",
        "    return ans"
      ],
      "metadata": {
        "id": "U7kjJ6Wq6M4l"
      },
      "execution_count": null,
      "outputs": []
    },
    {
      "cell_type": "markdown",
      "source": [
        "**452. Minimum Number of Arrows to Burst Balloons**\n"
      ],
      "metadata": {
        "id": "VhuEYgLO6c0c"
      }
    },
    {
      "cell_type": "markdown",
      "source": [
        "There are some spherical balloons taped onto a flat wall that represents the XY-plane. The balloons are represented as a 2D integer array points where points[i] = [xstart, xend] denotes a balloon whose horizontal diameter stretches between xstart and xend. You do not know the exact y-coordinates of the balloons.\n",
        "\n",
        "Arrows can be shot up directly vertically (in the positive y-direction) from different points along the x-axis. A balloon with xstart and xend is burst by an arrow shot at x if xstart <= x <= xend. There is no limit to the number of arrows that can be shot. A shot arrow keeps traveling up infinitely, bursting any balloons in its path.\n",
        "\n",
        "Given the array points, return the minimum number of arrows that must be shot to burst all balloons.\n",
        "\n",
        "\n",
        "\n",
        "Example 1:\n",
        "\n",
        "Input: points = [[10,16],[2,8],[1,6],[7,12]]\n",
        "Output: 2\n",
        "Explanation: The balloons can be burst by 2 arrows:\n",
        "- Shoot an arrow at x = 6, bursting the balloons [2,8] and [1,6].\n",
        "- Shoot an arrow at x = 11, bursting the balloons [10,16] and [7,12].\n",
        "Example 2:\n",
        "\n",
        "Input: points = [[1,2],[3,4],[5,6],[7,8]]\n",
        "Output: 4\n",
        "Explanation: One arrow needs to be shot for each balloon for a total of 4 arrows.\n",
        "Example 3:\n",
        "\n",
        "Input: points = [[1,2],[2,3],[3,4],[4,5]]\n",
        "Output: 2\n",
        "Explanation: The balloons can be burst by 2 arrows:\n",
        "- Shoot an arrow at x = 2, bursting the balloons [1,2] and [2,3].\n",
        "- Shoot an arrow at x = 4, bursting the balloons [3,4] and [4,5]."
      ],
      "metadata": {
        "id": "p-TqXIWC6h4n"
      }
    },
    {
      "cell_type": "code",
      "source": [
        "class Solution:\n",
        "  def findMinArrowShots(self, points: List[List[int]]) -> int:\n",
        "    ans = 0\n",
        "    arrowX = -math.inf\n",
        "\n",
        "    for point in sorted(points, key=lambda x: x[1]):\n",
        "      if point[0] > arrowX:\n",
        "        ans += 1\n",
        "        arrowX = point[1]\n",
        "\n",
        "    return ans"
      ],
      "metadata": {
        "id": "f6BR9SJ76lex"
      },
      "execution_count": null,
      "outputs": []
    }
  ]
}