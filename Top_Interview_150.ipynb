{
  "nbformat": 4,
  "nbformat_minor": 0,
  "metadata": {
    "colab": {
      "provenance": [],
      "authorship_tag": "ABX9TyPCeyol55hIgsv6wnZFtQAC",
      "include_colab_link": true
    },
    "kernelspec": {
      "name": "python3",
      "display_name": "Python 3"
    },
    "language_info": {
      "name": "python"
    }
  },
  "cells": [
    {
      "cell_type": "markdown",
      "metadata": {
        "id": "view-in-github",
        "colab_type": "text"
      },
      "source": [
        "<a href=\"https://colab.research.google.com/github/vedmara/Colab/blob/main/Top_Interview_150.ipynb\" target=\"_parent\"><img src=\"https://colab.research.google.com/assets/colab-badge.svg\" alt=\"Open In Colab\"/></a>"
      ]
    },
    {
      "cell_type": "markdown",
      "source": [
        "I took assignments to prepare for an interview from the Leetcode website.\n"
      ],
      "metadata": {
        "id": "-pJnIPT3Cuky"
      }
    },
    {
      "cell_type": "markdown",
      "source": [
        "**1.Two Sum**\n"
      ],
      "metadata": {
        "id": "5wpAXXbYvVQ7"
      }
    },
    {
      "cell_type": "markdown",
      "source": [
        "Given an array of integers nums and an integer target, return indices of the two numbers such that they add up to target.\n",
        "\n",
        "You may assume that each input would have exactly one solution, and you may not use the same element twice.\n",
        "\n",
        "You can return the answer in any order.\n",
        "\n",
        "\n",
        "\n",
        "Example 1:\n",
        "\n",
        "Input: nums = [2,7,11,15], target = 9\n",
        "Output: [0,1]\n",
        "Explanation: Because nums[0] + nums[1] == 9, we return [0, 1].\n",
        "\n",
        "Example 2:\n",
        "\n",
        "Input: nums = [3,2,4], target = 6\n",
        "Output: [1,2]\n",
        "\n",
        "Example 3:\n",
        "\n",
        "Input: nums = [3,3], target = 6\n",
        "Output: [0,1]"
      ],
      "metadata": {
        "id": "wHWCBEnivhYG"
      }
    },
    {
      "cell_type": "markdown",
      "source": [
        "Here's a breakdown of how this code works:\n",
        "\n",
        "It initializes an empty dictionary index_map to store the indices of the numbers as they are processed.\n",
        "\n",
        "It iterates through the nums list using enumerate, which provides both the index and the value of each element.\n",
        "\n",
        "For each number num at index index, it checks if target - num exists in the index_map. If it does, that means there is a pair of numbers in the list that adds up to the target.\n",
        "\n",
        "If such a pair is found, it returns the indices of the two numbers, which are index_map[target - num] and index.\n",
        "\n",
        "If no pair is found during the iteration, the function will return an empty list (if you'd like to handle this case differently, you can modify the code accordingly).\n",
        "\n"
      ],
      "metadata": {
        "id": "ecX75zTbwC1T"
      }
    },
    {
      "cell_type": "code",
      "source": [
        "class Solution:\n",
        "    def twoSum(self, nums: List[int], target: int) -> List[int]:\n",
        "        index_map = {}\n",
        "        for index, num in enumerate(nums):\n",
        "            if target - num in index_map:\n",
        "                return index_map[target - num], index\n",
        "            index_map[num] = index"
      ],
      "metadata": {
        "id": "8uNXTziHv6_M"
      },
      "execution_count": null,
      "outputs": []
    },
    {
      "cell_type": "markdown",
      "source": [
        "**15. 3Sum**\n"
      ],
      "metadata": {
        "id": "7gAwVhVEGTJY"
      }
    },
    {
      "cell_type": "markdown",
      "source": [],
      "metadata": {
        "id": "oMxL6kncUwtZ"
      }
    },
    {
      "cell_type": "markdown",
      "source": [
        "Given an integer array nums, return all the triplets [nums[i], nums[j], nums[k]] such that i != j, i != k, and j != k, and nums[i] + nums[j] + nums[k] == 0.\n",
        "\n",
        "Notice that the solution set must not contain duplicate triplets.\n",
        "\n"
      ],
      "metadata": {
        "id": "fsC_YuFjDVd9"
      }
    },
    {
      "cell_type": "markdown",
      "source": [
        "Example1: Input: nums = [-1,0,1,2,-1,-4]\n",
        "Output: [[-1,-1,2],[-1,0,1]]\n",
        "Explanation:\n",
        "nums[0] + nums[1] + nums[2] = (-1) + 0 + 1 = 0.\n",
        "nums[1] + nums[2] + nums[4] = 0 + 1 + (-1) = 0.\n",
        "nums[0] + nums[3] + nums[4] = (-1) + 2 + (-1) = 0.\n",
        "The distinct triplets are [-1,0,1] and [-1,-1,2].\n",
        "Notice that the order of the output and the order of the triplets does not matter.\n"
      ],
      "metadata": {
        "id": "kIF7xZ1PEHSU"
      }
    },
    {
      "cell_type": "markdown",
      "source": [
        "Example2: Input: nums = [0,1,1]\n",
        "Output: []\n",
        "Explanation: The only possible triplet does not sum up to 0.\n"
      ],
      "metadata": {
        "id": "iyKjuqh2EOnn"
      }
    },
    {
      "cell_type": "markdown",
      "source": [
        "Example3:Input: nums = [0,0,0]\n",
        "Output: [[0,0,0]]\n",
        "Explanation: The only possible triplet sums up to 0.\n"
      ],
      "metadata": {
        "id": "BSe4J7zCEW8x"
      }
    },
    {
      "cell_type": "markdown",
      "source": [
        "1. If the length of the nums array<=2, it means it does not have a triplet, so we can return []\n",
        "2. Else, sort the nums array so that we can proceed further. This will take nlog(n) time\n",
        "3. Linearly iterate over the list from the first item till second last element, and set the low and high pointers to low +1 and length(nums) resp\n",
        "4. Set the low pointer as i+1 and the high pointer as the end of the list\n",
        "5. Repeat the process till low < high\n",
        "6. If the sum of three numbers == 0, add that element to the list, sort it and add them to a set (as we need to return the unique set)\n",
        "7. If the sum of three numbers < 0, it means we need to move towards the right (as nums are sorted in ascending order), so decrement the high pointer\n",
        "8. If the sum of three numbers > 0, it means we need to move towards the left, so increment the low pointer\n",
        "9. Return result set\n"
      ],
      "metadata": {
        "id": "BbT_o1MQEdMu"
      }
    },
    {
      "cell_type": "code",
      "source": [
        "class Solution:\n",
        "    def threeSum(self, nums: List[int]) -> List[List[int]]:\n",
        "        if len(nums) <= 2:\n",
        "            return []\n",
        "\n",
        "        result = []\n",
        "        nums = sorted(nums)\n",
        "\n",
        "        for x in range(len(nums) - 2):\n",
        "            if x > 0 and nums[x] == nums[x - 1]:\n",
        "                continue  # Skip duplicate elements\n",
        "\n",
        "            b = x + 1\n",
        "            e = len(nums) - 1\n",
        "\n",
        "            while b < e:\n",
        "                val = nums[x] + nums[b] + nums[e]\n",
        "\n",
        "                if val == 0:\n",
        "                    result.append([nums[x], nums[b], nums[e]])\n",
        "\n",
        "                    while b < e and nums[b] == nums[b + 1]:\n",
        "                        b += 1\n",
        "                    while b < e and nums[e] == nums[e - 1]:\n",
        "                        e -= 1\n",
        "\n",
        "                    b += 1\n",
        "                    e -= 1\n",
        "\n",
        "                elif val < 0:\n",
        "                    b += 1\n",
        "                else:\n",
        "                    e -= 1\n",
        "\n",
        "        return result"
      ],
      "metadata": {
        "id": "HJnqx_rFEkzY"
      },
      "execution_count": null,
      "outputs": []
    },
    {
      "cell_type": "markdown",
      "source": [
        "Runtime\n",
        "\n",
        "1122ms\n",
        "Beats 47.92%of users with Python3\n",
        "\n",
        "Memory\n",
        "\n",
        "20.34MB\n",
        "Beats 73.20%of users with Python3"
      ],
      "metadata": {
        "id": "1KNdM_R2F_Ed"
      }
    },
    {
      "cell_type": "markdown",
      "source": [],
      "metadata": {
        "id": "C0c90C0DGahw"
      }
    },
    {
      "cell_type": "markdown",
      "source": [
        "**383. Ransom Note**\n"
      ],
      "metadata": {
        "id": "Fh1C_4IrRCae"
      }
    },
    {
      "cell_type": "markdown",
      "source": [
        "Given two strings ransomNote and magazine, return true if ransomNote can be constructed by using the letters from magazine and false otherwise.\n",
        "\n",
        "Each letter in magazine can only be used once in ransomNote.\n",
        "\n",
        "\n",
        "\n",
        "Example 1:\n",
        "\n",
        "Input: ransomNote = \"a\", magazine = \"b\"\n",
        "Output: false\n",
        "Example 2:\n",
        "\n",
        "Input: ransomNote = \"aa\", magazine = \"ab\"\n",
        "Output: false\n",
        "Example 3:\n",
        "\n",
        "Input: ransomNote = \"aa\", magazine = \"aab\"\n",
        "Output: true"
      ],
      "metadata": {
        "id": "KIVFi4HrRE0I"
      }
    },
    {
      "cell_type": "code",
      "source": [
        "lass Solution:\n",
        "    def canConstruct(self, ransomNote: str, magazine: str) -> bool:\n",
        "        note,mag = Counter(ransomNote), Counter(magazine)\n",
        "        if note & mag == note: return True\n",
        "        return False"
      ],
      "metadata": {
        "id": "Y0dh9ho5RKrT"
      },
      "execution_count": null,
      "outputs": []
    },
    {
      "cell_type": "markdown",
      "source": [
        "**205. Isomorphic Strings**"
      ],
      "metadata": {
        "id": "Nw6SsPBbUz07"
      }
    },
    {
      "cell_type": "markdown",
      "source": [
        "Given two strings s and t, determine if they are isomorphic.\n",
        "\n",
        "Two strings s and t are isomorphic if the characters in s can be replaced to get t.\n",
        "\n",
        "All occurrences of a character must be replaced with another character while preserving the order of characters. No two characters may map to the same character, but a character may map to itself.\n",
        "\n",
        "\n",
        "\n",
        "Example 1:\n",
        "\n",
        "Input: s = \"egg\", t = \"add\"\n",
        "Output: true\n",
        "Example 2:\n",
        "\n",
        "Input: s = \"foo\", t = \"bar\"\n",
        "Output: false\n",
        "Example 3:\n",
        "\n",
        "Input: s = \"paper\", t = \"title\"\n",
        "Output: true"
      ],
      "metadata": {
        "id": "dGT6bTGgU8c0"
      }
    },
    {
      "cell_type": "code",
      "source": [
        "class Solution:\n",
        "  def isIsomorphic(self, s: str, t: str) -> bool:\n",
        "        # Check if the number of unique characters in the strings are equal\n",
        "        if len(set(s)) != len(set(t)):\n",
        "            return False\n",
        "\n",
        "        # Check if the mapping between characters is unique\n",
        "        char_map = {}\n",
        "        for i in range(len(s)):\n",
        "            if s[i] not in char_map:\n",
        "                char_map[s[i]] = t[i]\n",
        "            elif char_map[s[i]] != t[i]:\n",
        "                return False\n",
        "        return True"
      ],
      "metadata": {
        "id": "GxoY7mlFVCXx"
      },
      "execution_count": null,
      "outputs": []
    },
    {
      "cell_type": "markdown",
      "source": [
        "**290. Word Pattern**\n"
      ],
      "metadata": {
        "id": "Srek7PJg3bA0"
      }
    },
    {
      "cell_type": "markdown",
      "source": [
        "Given a pattern and a string s, find if s follows the same pattern.\n",
        "\n",
        "Here follow means a full match, such that there is a bijection between a letter in pattern and a non-empty word in s.\n",
        "\n",
        "\n",
        "\n",
        "Example 1:\n",
        "\n",
        "Input: pattern = \"abba\", s = \"dog cat cat dog\"\n",
        "Output: true\n",
        "Example 2:\n",
        "\n",
        "Input: pattern = \"abba\", s = \"dog cat cat fish\"\n",
        "Output: false\n",
        "Example 3:\n",
        "\n",
        "Input: pattern = \"aaaa\", s = \"dog cat cat dog\"\n",
        "Output: false"
      ],
      "metadata": {
        "id": "ickhoNql3dGK"
      }
    },
    {
      "cell_type": "code",
      "source": [
        "class Solution:\n",
        "    def wordPattern(self, pattern: str, s: str) -> bool:\n",
        "        hm = {}\n",
        "\n",
        "        # we need to split the s over the space(\" \")\n",
        "        s = s.split(\" \")\n",
        "\n",
        "        # if the lengths of pattern and s are not same then return False\n",
        "        if len(s) != len(pattern):\n",
        "            return False\n",
        "\n",
        "        # loop over both pattern and s at same time using the index, as they are of same length\n",
        "        for i in range(len(s)):\n",
        "\n",
        "            pv, sv = \"pat\"+pattern[i] , \"str\"+s[i]\n",
        "\n",
        "            # add the pattern value and s value if its not in hashmap\n",
        "            if pv not in hm:\n",
        "                hm[pv] = i\n",
        "\n",
        "            if sv not in hm:\n",
        "                hm[sv] = i\n",
        "\n",
        "            # if both are not returning the same index, it means the pattern is not being followed\n",
        "            if hm[sv] != hm[pv]:\n",
        "                return False\n",
        "\n",
        "        return True"
      ],
      "metadata": {
        "id": "C_qDoxHi3g07"
      },
      "execution_count": null,
      "outputs": []
    },
    {
      "cell_type": "markdown",
      "source": [
        "**242. Valid Anagram**\n"
      ],
      "metadata": {
        "id": "rcqjgkyr375k"
      }
    },
    {
      "cell_type": "markdown",
      "source": [
        "Given two strings s and t, return true if t is an anagram of s, and false otherwise.\n",
        "\n",
        "An Anagram is a word or phrase formed by rearranging the letters of a different word or phrase, typically using all the original letters exactly once.\n",
        "\n",
        "\n",
        "\n",
        "Example 1:\n",
        "\n",
        "Input: s = \"anagram\", t = \"nagaram\"\n",
        "Output: true\n",
        "Example 2:\n",
        "\n",
        "Input: s = \"rat\", t = \"car\"\n",
        "Output: false"
      ],
      "metadata": {
        "id": "Bg6kxkod39gA"
      }
    },
    {
      "cell_type": "code",
      "source": [
        "class Solution:\n",
        "    def isAnagram(self, s: str, t: str) -> bool:\n",
        "        if len(s) != len(t):\n",
        "            return False\n",
        "        countS = {}\n",
        "        countT = {}\n",
        "        for i in range(len(s)):\n",
        "            countS[s[i]] = 1 + countS.get(s[i], 0)\n",
        "            countT[t[i]] = 1 + countT.get(t[i], 0)\n",
        "        if (countS == countT):\n",
        "            return True\n",
        "        else:\n",
        "            return False"
      ],
      "metadata": {
        "id": "EFewgwTz4FNo"
      },
      "execution_count": null,
      "outputs": []
    },
    {
      "cell_type": "markdown",
      "source": [
        "**49. Group Anagrams**\n"
      ],
      "metadata": {
        "id": "xHwDeU7z5vhu"
      }
    },
    {
      "cell_type": "markdown",
      "source": [
        "Given an array of strings strs, group the anagrams together. You can return the answer in any order.\n",
        "\n",
        "An Anagram is a word or phrase formed by rearranging the letters of a different word or phrase, typically using all the original letters exactly once.\n",
        "\n",
        "\n",
        "\n",
        "Example 1:\n",
        "\n",
        "Input: strs = [\"eat\",\"tea\",\"tan\",\"ate\",\"nat\",\"bat\"]\n",
        "Output: [[\"bat\"],[\"nat\",\"tan\"],[\"ate\",\"eat\",\"tea\"]]\n",
        "\n",
        "Example 2:\n",
        "\n",
        "Input: strs = [\"\"]\n",
        "Output: [[\"\"]]\n",
        "\n",
        "Example 3:\n",
        "\n",
        "Input: strs = [\"a\"]\n",
        "Output: [[\"a\"]]"
      ],
      "metadata": {
        "id": "12q3-DbI5xRM"
      }
    },
    {
      "cell_type": "code",
      "source": [
        "class Solution:\n",
        "    def groupAnagrams(self, strs: List[str]) -> List[List[str]]:\n",
        "        if len(strs) == 0:\n",
        "            return []\n",
        "\n",
        "        c_dict = {}\n",
        "\n",
        "        for word in strs:\n",
        "            freq_list = [0]*26\n",
        "\n",
        "            for c in word:\n",
        "                freq_list[ord(c)-ord('a')] += 1    # increment counter for freq in list\n",
        "\n",
        "            freq_list = tuple(freq_list) # as tuple is immutable and can be used as key in dict\n",
        "\n",
        "            if freq_list not in c_dict.keys():\n",
        "                c_dict[freq_list] = [word]     # add the first word in the list\n",
        "            else:\n",
        "                c_dict[freq_list].append(word)  # add more anagrams to the list\n",
        "\n",
        "        return c_dict.values()"
      ],
      "metadata": {
        "id": "eTZdbhaM541e"
      },
      "execution_count": null,
      "outputs": []
    },
    {
      "cell_type": "markdown",
      "source": [
        "**202. Happy Number**"
      ],
      "metadata": {
        "id": "njff4cZR65BF"
      }
    },
    {
      "cell_type": "markdown",
      "source": [
        "Write an algorithm to determine if a number n is happy.\n",
        "\n",
        "A happy number is a number defined by the following process:\n",
        "\n",
        "Starting with any positive integer, replace the number by the sum of the squares of its digits.\n",
        "Repeat the process until the number equals 1 (where it will stay), or it loops endlessly in a cycle which does not include 1.\n",
        "Those numbers for which this process ends in 1 are happy.\n",
        "Return true if n is a happy number, and false if not.\n",
        "\n",
        "\n",
        "\n",
        "Example 1:\n",
        "\n",
        "Input: n = 19\n",
        "Output: true\n",
        "Explanation:\n",
        "12 + 92 = 82\n",
        "82 + 22 = 68\n",
        "62 + 82 = 100\n",
        "12 + 02 + 02 = 1\n",
        "Example 2:\n",
        "\n",
        "Input: n = 2\n",
        "Output: false"
      ],
      "metadata": {
        "id": "G42R0ElV69u6"
      }
    },
    {
      "cell_type": "code",
      "source": [
        "class Solution:\n",
        "    def isHappy(self, n: int) -> bool:\n",
        "        s = set()\n",
        "        while n != 1:\n",
        "            if n in s: return False\n",
        "            s.add(n)\n",
        "            n = sum([int(i) ** 2 for i in str(n)])\n",
        "        else:\n",
        "            return True"
      ],
      "metadata": {
        "id": "z_rq7OVN7C5P"
      },
      "execution_count": null,
      "outputs": []
    },
    {
      "cell_type": "markdown",
      "source": [
        "**219. Contains Duplicate II**\n"
      ],
      "metadata": {
        "id": "5y3Hk37IkLmX"
      }
    },
    {
      "cell_type": "markdown",
      "source": [
        "Given an integer array nums and an integer k, return true if there are two distinct indices i and j in the array such that nums[i] == nums[j] and abs(i - j) <= k.\n",
        "\n",
        "\n",
        "\n",
        "Example 1:\n",
        "\n",
        "Input: nums = [1,2,3,1], k = 3\n",
        "Output: true\n",
        "Example 2:\n",
        "\n",
        "Input: nums = [1,0,1,1], k = 1\n",
        "Output: true\n",
        "Example 3:\n",
        "\n",
        "Input: nums = [1,2,3,1,2,3], k = 2\n",
        "Output: false"
      ],
      "metadata": {
        "id": "NFHlq_StkPo2"
      }
    },
    {
      "cell_type": "code",
      "source": [
        "lass Solution:\n",
        "    def containsNearbyDuplicate(self, nums: List[int], k: int) -> bool:\n",
        "        dic={}\n",
        "        for pos,val in enumerate(nums):\n",
        "            if val in dic:\n",
        "                if pos-dic[val]<=k:\n",
        "                    return True\n",
        "            dic[val]=pos\n",
        "        return False\n"
      ],
      "metadata": {
        "id": "QsLFjS8PkTuL"
      },
      "execution_count": null,
      "outputs": []
    },
    {
      "cell_type": "markdown",
      "source": [
        "**128. Longest Consecutive Sequence**"
      ],
      "metadata": {
        "id": "-SNMMBaAmZZQ"
      }
    },
    {
      "cell_type": "markdown",
      "source": [
        "Given an unsorted array of integers nums, return the length of the longest consecutive elements sequence.\n",
        "\n",
        "You must write an algorithm that runs in O(n) time.\n",
        "\n",
        "\n",
        "\n",
        "Example 1:\n",
        "\n",
        "Input: nums = [100,4,200,1,3,2]\n",
        "Output: 4\n",
        "Explanation: The longest consecutive elements sequence is [1, 2, 3, 4]. Therefore its length is 4.\n",
        "Example 2:\n",
        "\n",
        "Input: nums = [0,3,7,2,5,8,4,6,0,1]\n",
        "Output: 9"
      ],
      "metadata": {
        "id": "RqvMzoBCmbFq"
      }
    },
    {
      "cell_type": "code",
      "source": [
        "class Solution:\n",
        "    def longestConsecutive(self, nums: List[int]) -> int:\n",
        "        nums_set=set(nums)\n",
        "        max_consecutive_length=0\n",
        "        nums=list(nums_set)\n",
        "        for i in range(len(nums)):\n",
        "            if nums[i]-1 in nums_set:\n",
        "                continue\n",
        "            current_length=1\n",
        "            temp=nums[i]\n",
        "            while(temp+1 in nums_set):\n",
        "                current_length+=1\n",
        "                temp+=1\n",
        "            max_consecutive_length=max(max_consecutive_length,current_length)\n",
        "        return max_consecutive_length"
      ],
      "metadata": {
        "id": "UZOS2i1amn99"
      },
      "execution_count": null,
      "outputs": []
    },
    {
      "cell_type": "markdown",
      "source": [
        "**228. Summary Ranges**"
      ],
      "metadata": {
        "id": "4yMc5F_5p7uW"
      }
    },
    {
      "cell_type": "markdown",
      "source": [
        "You are given a sorted unique integer array nums.\n",
        "\n",
        "A range [a,b] is the set of all integers from a to b (inclusive).\n",
        "\n",
        "Return the smallest sorted list of ranges that cover all the numbers in the array exactly. That is, each element of nums is covered by exactly one of the ranges, and there is no integer x such that x is in one of the ranges but not in nums.\n",
        "\n",
        "Each range [a,b] in the list should be output as:\n",
        "\n",
        "\"a->b\" if a != b\n",
        "\"a\" if a == b\n",
        "\n",
        "\n",
        "Example 1:\n",
        "\n",
        "Input: nums = [0,1,2,4,5,7]\n",
        "Output: [\"0->2\",\"4->5\",\"7\"]\n",
        "Explanation: The ranges are:\n",
        "[0,2] --> \"0->2\"\n",
        "[4,5] --> \"4->5\"\n",
        "[7,7] --> \"7\"\n",
        "Example 2:\n",
        "\n",
        "Input: nums = [0,2,3,4,6,8,9]\n",
        "Output: [\"0\",\"2->4\",\"6\",\"8->9\"]\n",
        "Explanation: The ranges are:\n",
        "[0,0] --> \"0\"\n",
        "[2,4] --> \"2->4\"\n",
        "[6,6] --> \"6\"\n",
        "[8,9] --> \"8->9\""
      ],
      "metadata": {
        "id": "qcdXHWkfp_jT"
      }
    },
    {
      "cell_type": "code",
      "source": [
        "class Solution:\n",
        "    def summaryRanges(self, nums: List[int]) -> List[str]:\n",
        "        l = len(nums)\n",
        "        if l == 0:\n",
        "            return []\n",
        "        nums.append(float('inf'))\n",
        "        res, start = [], 0\n",
        "        for i in range(l):\n",
        "            if nums[i + 1] != nums[i] + 1:\n",
        "                res.append(str(nums[i]) if i == start else \"%s->%s\" % (nums[start], nums[i]))\n",
        "                start = i + 1\n",
        "        return res"
      ],
      "metadata": {
        "id": "tb5qhBFjqCzS"
      },
      "execution_count": null,
      "outputs": []
    },
    {
      "cell_type": "markdown",
      "source": [
        "**209. Minimum Size Subarray Sum**\n"
      ],
      "metadata": {
        "id": "_8m8bW-iGP8c"
      }
    },
    {
      "cell_type": "markdown",
      "source": [
        "Given an array of positive integers nums and a positive integer target, return the minimal length of a\n",
        "subarray\n",
        " whose sum is greater than or equal to target. If there is no such subarray, return 0 instead.\n",
        "\n",
        "\n",
        "\n",
        "Example 1:\n",
        "\n",
        "Input: target = 7, nums = [2,3,1,2,4,3]\n",
        "Output: 2\n",
        "Explanation: The subarray [4,3] has the minimal length under the problem constraint.\n",
        "Example 2:\n",
        "\n",
        "Input: target = 4, nums = [1,4,4]\n",
        "Output: 1\n",
        "Example 3:\n",
        "\n",
        "Input: target = 11, nums = [1,1,1,1,1,1,1,1]\n",
        "Output: 0"
      ],
      "metadata": {
        "id": "8qXWvVaGGRR4"
      }
    },
    {
      "cell_type": "code",
      "source": [
        "class Solution:\n",
        "    def minSubArrayLen(self, target: int, nums: List[int]) -> int:\n",
        "        min_end=0\n",
        "        min_len=len(nums)\n",
        "        w_sum=nums[0]\n",
        "\n",
        "        if sum(nums)<target: return 0\n",
        "        if nums[-1]>=target: return 1\n",
        "\n",
        "        for i in range(len(nums)-1):\n",
        "            if i>0:\n",
        "                w_sum-=nums[i-1]\n",
        "            if i>min_end:\n",
        "                min_end=i\n",
        "            while min_end<len(nums):\n",
        "                if w_sum<target:\n",
        "                    min_end+=1\n",
        "                    if min_end==len(nums):break\n",
        "                    w_sum+=nums[min_end]\n",
        "                if w_sum>=target:\n",
        "                    min_len=min(min_len,min_end-i+1)\n",
        "                    break\n",
        "        return min_len"
      ],
      "metadata": {
        "id": "CJLTW7mcGUli"
      },
      "execution_count": null,
      "outputs": []
    },
    {
      "cell_type": "markdown",
      "source": [
        "**104. Maximum Depth of Binary Tree**\n"
      ],
      "metadata": {
        "id": "KSGWALLDI2iR"
      }
    },
    {
      "cell_type": "markdown",
      "source": [
        "Given the root of a binary tree, return its maximum depth.\n",
        "\n",
        "A binary tree's maximum depth is the number of nodes along the longest path from the root node down to the farthest leaf node."
      ],
      "metadata": {
        "id": "LxoKoINuI6Jj"
      }
    },
    {
      "cell_type": "markdown",
      "source": [
        "Example 1:\n",
        "Input: root = [3,9,20,null,null,15,7]\n",
        "Output: 3\n",
        "Example 2:\n",
        "Input: root = [1,null,2]\n",
        "Output: 2"
      ],
      "metadata": {
        "id": "HkkfQGR4I9_6"
      }
    },
    {
      "cell_type": "code",
      "source": [
        "class Solution:\n",
        "    def maxDepth(self, root: Optional[TreeNode]) -> int:\n",
        "        def dfs(root, depth):\n",
        "\n",
        "            if not root: return depth\n",
        "            return max(dfs(root.left, depth + 1), dfs(root.right, depth + 1))\n",
        "\n",
        "        return dfs(root, 0)"
      ],
      "metadata": {
        "id": "YHZMgW72JLui"
      },
      "execution_count": null,
      "outputs": []
    },
    {
      "cell_type": "markdown",
      "source": [
        "**226. Invert Binary Tree**\n"
      ],
      "metadata": {
        "id": "8YFcDAaLKR3_"
      }
    },
    {
      "cell_type": "markdown",
      "source": [
        "Given the root of a binary tree, invert the tree, and return its root.\n",
        "Example 1:\n",
        "Input: root = [4,2,7,1,3,6,9]\n",
        "Output: [4,7,2,9,6,3,1]\n",
        "Example 2:\n",
        "Input: root = [2,1,3]\n",
        "Output: [2,3,1]\n",
        "Example 3:\n",
        "Input: root = []\n",
        "Output: []"
      ],
      "metadata": {
        "id": "OfjU9TpHKUJV"
      }
    },
    {
      "cell_type": "code",
      "source": [
        "class Solution:\n",
        "    def invertTree(self, root: Optional[TreeNode]) -> Optional[TreeNode]:\n",
        "        if not root:\n",
        "            return None\n",
        "\n",
        "        left = root.left\n",
        "        right = root.right\n",
        "        root.left = self.invertTree(right)\n",
        "        root.right = self.invertTree(left)\n",
        "        return root"
      ],
      "metadata": {
        "id": "qYpRcd9TKsj2"
      },
      "execution_count": null,
      "outputs": []
    },
    {
      "cell_type": "markdown",
      "source": [
        "**100. Same Tree**\n"
      ],
      "metadata": {
        "id": "TLjMfDNKLc-w"
      }
    },
    {
      "cell_type": "markdown",
      "source": [
        "Given the roots of two binary trees p and q, write a function to check if they are the same or not.\n",
        "\n",
        "Two binary trees are considered the same if they are structurally identical, and the nodes have the same value.\n",
        "\n",
        "\n",
        "\n",
        "Example 1:\n",
        "Input: p = [1,2,3], q = [1,2,3]\n",
        "Output: true\n",
        "Example 2:\n",
        "Input: p = [1,2], q = [1,null,2]\n",
        "Output: false\n",
        "Example 3:\n",
        "Input: p = [1,2,1], q = [1,1,2]\n",
        "Output: false"
      ],
      "metadata": {
        "id": "JYk7Hi6HLerY"
      }
    },
    {
      "cell_type": "code",
      "source": [
        "class Solution:\n",
        "    def isSameTree(self, p: Optional[TreeNode], q: Optional[TreeNode]) -> bool:\n",
        "        if not p or not q:\n",
        "            return p == q\n",
        "\n",
        "        return p.val == q.val and \\\n",
        "            self.isSameTree(p.left, q.left) and \\\n",
        "            self.isSameTree(p.right, q.right)"
      ],
      "metadata": {
        "id": "BT8X3DR_LsRS"
      },
      "execution_count": null,
      "outputs": []
    },
    {
      "cell_type": "markdown",
      "source": [
        "**101. Symmetric Tree**\n"
      ],
      "metadata": {
        "id": "SoqnGHi26VEw"
      }
    },
    {
      "cell_type": "markdown",
      "source": [
        "Given the root of a binary tree, check whether it is a mirror of itself (i.e., symmetric around its center)."
      ],
      "metadata": {
        "id": "WbZ1qcBR6XBC"
      }
    },
    {
      "cell_type": "code",
      "source": [
        "class Solution:\n",
        "    def isSymmetric(self, root: Optional[TreeNode]) -> bool:\n",
        "        def isSymmetric(p: Optional[TreeNode], q: Optional[TreeNode]) -> bool:\n",
        "          if not p or not q:\n",
        "            return p == q\n",
        "\n",
        "          return p.val == q.val and \\\n",
        "            isSymmetric(p.left, q.right) and \\\n",
        "            isSymmetric(p.right, q.left)\n",
        "        return isSymmetric(root, root)"
      ],
      "metadata": {
        "id": "XiyHW9rU6aDg"
      },
      "execution_count": null,
      "outputs": []
    },
    {
      "cell_type": "markdown",
      "source": [
        "**105. Construct Binary Tree from Preorder and Inorder Traversal**\n"
      ],
      "metadata": {
        "id": "DE864DOQ7BuM"
      }
    },
    {
      "cell_type": "markdown",
      "source": [
        "Given two integer arrays preorder and inorder where preorder is the preorder traversal of a binary tree and inorder is the inorder traversal of the same tree, construct and return the binary tree."
      ],
      "metadata": {
        "id": "Ha-amZqS7Dwr"
      }
    },
    {
      "cell_type": "code",
      "source": [
        "class Solution:\n",
        "  def buildTree(self, preorder: List[int], inorder: List[int]) -> Optional[TreeNode]:\n",
        "    inToIndex = {num: i for i, num in enumerate(inorder)}\n",
        "\n",
        "    def build(preStart: int, preEnd: int, inStart: int, inEnd: int) -> Optional[TreeNode]:\n",
        "      if preStart > preEnd:\n",
        "        return None\n",
        "\n",
        "      rootVal = preorder[preStart]\n",
        "      rootInIndex = inToIndex[rootVal]\n",
        "      leftSize = rootInIndex - inStart\n",
        "\n",
        "      root = TreeNode(rootVal)\n",
        "      root.left = build(preStart + 1, preStart + leftSize,\n",
        "                        inStart, rootInIndex - 1)\n",
        "      root.right = build(preStart + leftSize + 1,\n",
        "                         preEnd, rootInIndex + 1, inEnd)\n",
        "      return root\n",
        "\n",
        "    return build(0, len(preorder) - 1, 0, len(inorder) - 1)"
      ],
      "metadata": {
        "id": "C4CEz2iN7Hy6"
      },
      "execution_count": null,
      "outputs": []
    },
    {
      "cell_type": "markdown",
      "source": [
        "**106. Construct Binary Tree from Inorder and Postorder Traversal**\n"
      ],
      "metadata": {
        "id": "rS_sqOxn7lzp"
      }
    },
    {
      "cell_type": "markdown",
      "source": [
        "Given two integer arrays inorder and postorder where inorder is the inorder traversal of a binary tree and postorder is the postorder traversal of the same tree, construct and return the binary tree."
      ],
      "metadata": {
        "id": "sm_6skWe7naU"
      }
    },
    {
      "cell_type": "code",
      "source": [
        "class Solution:\n",
        "  def buildTree(self, inorder: List[int], postorder: List[int]) -> Optional[TreeNode]:\n",
        "    inToIndex = {num: i for i, num in enumerate(inorder)}\n",
        "\n",
        "    def build(inStart: int, inEnd: int, postStart: int, postEnd: int) -> Optional[TreeNode]:\n",
        "      if inStart > inEnd:\n",
        "        return None\n",
        "\n",
        "      rootVal = postorder[postEnd]\n",
        "\n",
        "      rootInIndex = inToIndex[rootVal]\n",
        "\n",
        "      leftSize = rootInIndex - inStart\n",
        "\n",
        "      root = TreeNode(rootVal)\n",
        "\n",
        "      root.left = build(inStart, rootInIndex - 1,  postStart,\n",
        "                        postStart + leftSize - 1)\n",
        "      root.right = build(rootInIndex + 1, inEnd,  postStart + leftSize,\n",
        "                         postEnd - 1)\n",
        "      return root\n",
        "\n",
        "    return build(0, len(inorder) - 1, 0, len(postorder) - 1)"
      ],
      "metadata": {
        "id": "V4t7Vkn67qZu"
      },
      "execution_count": null,
      "outputs": []
    },
    {
      "cell_type": "markdown",
      "source": [
        "Ok. Some solutions I can't understand, but I'll try"
      ],
      "metadata": {
        "id": "1v0zUKOw85rh"
      }
    },
    {
      "cell_type": "markdown",
      "source": [
        "**117. Populating Next Right Pointers in Each Node II**\n"
      ],
      "metadata": {
        "id": "srTNgacwx5vO"
      }
    },
    {
      "cell_type": "markdown",
      "source": [
        "Given a binary tree\n",
        "\n",
        "struct Node {\n",
        "  int val;\n",
        "  Node *left;\n",
        "  Node *right;\n",
        "  Node *next;\n",
        "}\n",
        "Populate each next pointer to point to its next right node. If there is no next right node, the next pointer should be set to NULL.\n",
        "\n",
        "Initially, all next pointers are set to NULL."
      ],
      "metadata": {
        "id": "6h85Hyxkx7M4"
      }
    },
    {
      "cell_type": "code",
      "source": [
        "class Solution:\n",
        "  def connect(self, root: 'Node') -> 'Node':\n",
        "    node = root  # The node just above current needling\n",
        "\n",
        "    while node:\n",
        "      dummy = Node(0)  # Dummy node before needling\n",
        "      # Needle children of node\n",
        "      needle = dummy\n",
        "      while node:\n",
        "        if node.left:  # Needle left child\n",
        "          needle.next = node.left\n",
        "          needle = needle.next\n",
        "        if node.right:  # Needle right child\n",
        "          needle.next = node.right\n",
        "          needle = needle.next\n",
        "        node = node.next\n",
        "      node = dummy.next  # Move node to the next level\n",
        "\n",
        "    return root"
      ],
      "metadata": {
        "id": "1dWUJOwsx-eq"
      },
      "execution_count": null,
      "outputs": []
    },
    {
      "cell_type": "markdown",
      "source": [
        "**114. Flatten Binary Tree to Linked List**\n"
      ],
      "metadata": {
        "id": "V_z-SIrnyVV7"
      }
    },
    {
      "cell_type": "markdown",
      "source": [
        "Given the root of a binary tree, flatten the tree into a \"linked list\":\n",
        "\n",
        "The \"linked list\" should use the same TreeNode class where the right child pointer points to the next node in the list and the left child pointer is always null.\n",
        "The \"linked list\" should be in the same order as a pre-order traversal of the binary tree."
      ],
      "metadata": {
        "id": "f3hSUhL0yWyy"
      }
    },
    {
      "cell_type": "code",
      "source": [
        "class Solution:\n",
        "  def flatten(self, root: Optional[TreeNode]) -> None:\n",
        "    if not root:\n",
        "      return\n",
        "\n",
        "    self.flatten(root.left)\n",
        "    self.flatten(root.right)\n",
        "\n",
        "    left = root.left  # Flattened left\n",
        "    right = root.right  # Flattened right\n",
        "\n",
        "    root.left = None\n",
        "    root.right = left\n",
        "\n",
        "    rightmost = root\n",
        "    while rightmost.right:\n",
        "      rightmost = rightmost.right\n",
        "    rightmost.right = right"
      ],
      "metadata": {
        "id": "bYOCmZruyZcU"
      },
      "execution_count": null,
      "outputs": []
    },
    {
      "cell_type": "markdown",
      "source": [
        "**112. Path Sum**\n"
      ],
      "metadata": {
        "id": "50kEksElywOb"
      }
    },
    {
      "cell_type": "markdown",
      "source": [
        "Given the root of a binary tree and an integer targetSum, return true if the tree has a root-to-leaf path such that adding up all the values along the path equals targetSum.\n",
        "\n",
        "A leaf is a node with no children."
      ],
      "metadata": {
        "id": "ZobvaOC1yxla"
      }
    },
    {
      "cell_type": "code",
      "source": [
        "class Solution:\n",
        "  def hasPathSum(self, root: TreeNode, summ: int) -> bool:\n",
        "    if not root:\n",
        "      return False\n",
        "\n",
        "    if root.val == summ and not root.left and not root.right:\n",
        "      return True\n",
        "\n",
        "    return self.hasPathSum(root.left, summ - root.val) or \\\n",
        "        self.hasPathSum(root.right, summ - root.val)"
      ],
      "metadata": {
        "id": "NwfFixUyy1MY"
      },
      "execution_count": null,
      "outputs": []
    },
    {
      "cell_type": "markdown",
      "source": [
        "**56. Merge Intervals**\n"
      ],
      "metadata": {
        "id": "BumYvDjj5vv9"
      }
    },
    {
      "cell_type": "markdown",
      "source": [
        "Given an array of intervals where intervals[i] = [starti, endi], merge all overlapping intervals, and return an array of the non-overlapping intervals that cover all the intervals in the input.\n",
        "\n",
        "\n",
        "\n",
        "Example 1:\n",
        "\n",
        "Input: intervals = [[1,3],[2,6],[8,10],[15,18]]\n",
        "Output: [[1,6],[8,10],[15,18]]\n",
        "Explanation: Since intervals [1,3] and [2,6] overlap, merge them into [1,6].\n",
        "Example 2:\n",
        "\n",
        "Input: intervals = [[1,4],[4,5]]\n",
        "Output: [[1,5]]\n",
        "Explanation: Intervals [1,4] and [4,5] are considered overlapping."
      ],
      "metadata": {
        "id": "-Su7Sg0L5w1s"
      }
    },
    {
      "cell_type": "code",
      "source": [
        "class Solution:\n",
        "  def merge(self, intervals: List[List[int]]) -> List[List[int]]:\n",
        "    ans = []\n",
        "\n",
        "    for interval in sorted(intervals):\n",
        "      if not ans or ans[-1][1] < interval[0]:\n",
        "        ans.append(interval)\n",
        "      else:\n",
        "        ans[-1][1] = max(ans[-1][1], interval[1])\n",
        "\n",
        "    return ans"
      ],
      "metadata": {
        "id": "avxay-ht50XS"
      },
      "execution_count": null,
      "outputs": []
    },
    {
      "cell_type": "markdown",
      "source": [
        "**57. Insert Interval**\n"
      ],
      "metadata": {
        "id": "v_REiJai6A3R"
      }
    },
    {
      "cell_type": "markdown",
      "source": [
        "You are given an array of non-overlapping intervals intervals where intervals[i] = [starti, endi] represent the start and the end of the ith interval and intervals is sorted in ascending order by starti. You are also given an interval newInterval = [start, end] that represents the start and end of another interval.\n",
        "\n",
        "Insert newInterval into intervals such that intervals is still sorted in ascending order by starti and intervals still does not have any overlapping intervals (merge overlapping intervals if necessary).\n",
        "\n",
        "Return intervals after the insertion.\n",
        "\n",
        "\n",
        "\n",
        "Example 1:\n",
        "\n",
        "Input: intervals = [[1,3],[6,9]], newInterval = [2,5]\n",
        "Output: [[1,5],[6,9]]\n",
        "Example 2:\n",
        "\n",
        "Input: intervals = [[1,2],[3,5],[6,7],[8,10],[12,16]], newInterval = [4,8]\n",
        "Output: [[1,2],[3,10],[12,16]]\n",
        "Explanation: Because the new interval [4,8] overlaps with [3,5],[6,7],[8,10]."
      ],
      "metadata": {
        "id": "-QVMyufT6Gr4"
      }
    },
    {
      "cell_type": "code",
      "source": [
        "class Solution:\n",
        "  def insert(self, intervals: List[List[int]], newInterval: List[int]) -> List[List[int]]:\n",
        "    n = len(intervals)\n",
        "    ans = []\n",
        "    i = 0\n",
        "\n",
        "    while i < n and intervals[i][1] < newInterval[0]:\n",
        "      ans.append(intervals[i])\n",
        "      i += 1\n",
        "\n",
        "    while i < n and intervals[i][0] <= newInterval[1]:\n",
        "      newInterval[0] = min(newInterval[0], intervals[i][0])\n",
        "      newInterval[1] = max(newInterval[1], intervals[i][1])\n",
        "      i += 1\n",
        "    ans.append(newInterval)\n",
        "\n",
        "    while i < n:\n",
        "      ans.append(intervals[i])\n",
        "      i += 1\n",
        "\n",
        "    return ans"
      ],
      "metadata": {
        "id": "U7kjJ6Wq6M4l"
      },
      "execution_count": null,
      "outputs": []
    },
    {
      "cell_type": "markdown",
      "source": [
        "**452. Minimum Number of Arrows to Burst Balloons**\n"
      ],
      "metadata": {
        "id": "VhuEYgLO6c0c"
      }
    },
    {
      "cell_type": "markdown",
      "source": [
        "There are some spherical balloons taped onto a flat wall that represents the XY-plane. The balloons are represented as a 2D integer array points where points[i] = [xstart, xend] denotes a balloon whose horizontal diameter stretches between xstart and xend. You do not know the exact y-coordinates of the balloons.\n",
        "\n",
        "Arrows can be shot up directly vertically (in the positive y-direction) from different points along the x-axis. A balloon with xstart and xend is burst by an arrow shot at x if xstart <= x <= xend. There is no limit to the number of arrows that can be shot. A shot arrow keeps traveling up infinitely, bursting any balloons in its path.\n",
        "\n",
        "Given the array points, return the minimum number of arrows that must be shot to burst all balloons.\n",
        "\n",
        "\n",
        "\n",
        "Example 1:\n",
        "\n",
        "Input: points = [[10,16],[2,8],[1,6],[7,12]]\n",
        "Output: 2\n",
        "Explanation: The balloons can be burst by 2 arrows:\n",
        "- Shoot an arrow at x = 6, bursting the balloons [2,8] and [1,6].\n",
        "- Shoot an arrow at x = 11, bursting the balloons [10,16] and [7,12].\n",
        "Example 2:\n",
        "\n",
        "Input: points = [[1,2],[3,4],[5,6],[7,8]]\n",
        "Output: 4\n",
        "Explanation: One arrow needs to be shot for each balloon for a total of 4 arrows.\n",
        "Example 3:\n",
        "\n",
        "Input: points = [[1,2],[2,3],[3,4],[4,5]]\n",
        "Output: 2\n",
        "Explanation: The balloons can be burst by 2 arrows:\n",
        "- Shoot an arrow at x = 2, bursting the balloons [1,2] and [2,3].\n",
        "- Shoot an arrow at x = 4, bursting the balloons [3,4] and [4,5]."
      ],
      "metadata": {
        "id": "p-TqXIWC6h4n"
      }
    },
    {
      "cell_type": "code",
      "source": [
        "class Solution:\n",
        "  def findMinArrowShots(self, points: List[List[int]]) -> int:\n",
        "\n",
        "    ans = 0\n",
        "    arrowX = -math.inf\n",
        "\n",
        "    for point in sorted(points, key=lambda x: x[1]):\n",
        "      if point[0] > arrowX:\n",
        "        ans += 1\n",
        "        arrowX = point[1]\n",
        "\n",
        "    return ans"
      ],
      "metadata": {
        "id": "f6BR9SJ76lex"
      },
      "execution_count": null,
      "outputs": []
    },
    {
      "cell_type": "markdown",
      "source": [
        "**20. Valid Parentheses**\n"
      ],
      "metadata": {
        "id": "P5TYkouk9XV0"
      }
    },
    {
      "cell_type": "markdown",
      "source": [
        "Given a string s containing just the characters '(', ')', '{', '}', '[' and ']', determine if the input string is valid.\n",
        "\n",
        "An input string is valid if:\n",
        "\n",
        "Open brackets must be closed by the same type of brackets.\n",
        "Open brackets must be closed in the correct order.\n",
        "Every close bracket has a corresponding open bracket of the same type.\n",
        "\n",
        "\n",
        "Example 1:\n",
        "\n",
        "Input: s = \"()\"\n",
        "Output: true\n",
        "Example 2:\n",
        "\n",
        "Input: s = \"()[]{}\"\n",
        "Output: true\n",
        "Example 3:\n",
        "\n",
        "Input: s = \"(]\"\n",
        "Output: false"
      ],
      "metadata": {
        "id": "3vXxP7K29Ypu"
      }
    },
    {
      "cell_type": "code",
      "source": [
        "class Solution:\n",
        "  def isValid(self, s: str) -> bool:\n",
        "    stack = []\n",
        "\n",
        "    for c in s:\n",
        "      if c == '(':\n",
        "        stack.append(')')\n",
        "      elif c == '{':\n",
        "        stack.append('}')\n",
        "      elif c == '[':\n",
        "        stack.append(']')\n",
        "      elif not stack or stack.pop() != c:\n",
        "        return False\n",
        "\n",
        "    return not stack"
      ],
      "metadata": {
        "id": "dcXVpPWm9rFG"
      },
      "execution_count": null,
      "outputs": []
    },
    {
      "cell_type": "markdown",
      "source": [
        "**71. Simplify Path**\n",
        "\n",
        "\n"
      ],
      "metadata": {
        "id": "QoZYIOkU-lYo"
      }
    },
    {
      "cell_type": "markdown",
      "source": [
        "Given a string path, which is an absolute path (starting with a slash '/') to a file or directory in a Unix-style file system, convert it to the simplified canonical path.\n",
        "\n",
        "In a Unix-style file system, a period '.' refers to the current directory, a double period '..' refers to the directory up a level, and any multiple consecutive slashes (i.e. '//') are treated as a single slash '/'. For this problem, any other format of periods such as '...' are treated as file/directory names.\n",
        "\n",
        "The canonical path should have the following format:\n",
        "\n",
        "The path starts with a single slash '/'.\n",
        "Any two directories are separated by a single slash '/'.\n",
        "The path does not end with a trailing '/'.\n",
        "The path only contains the directories on the path from the root directory to the target file or directory (i.e., no period '.' or double period '..')\n",
        "Return the simplified canonical path.\n",
        "\n",
        "\n",
        "\n",
        "Example 1:\n",
        "\n",
        "Input: path = \"/home/\"\n",
        "Output: \"/home\"\n",
        "Explanation: Note that there is no trailing slash after the last directory name.\n",
        "Example 2:\n",
        "\n",
        "Input: path = \"/../\"\n",
        "Output: \"/\"\n",
        "Explanation: Going one level up from the root directory is a no-op, as the root level is the highest level you can go.\n",
        "Example 3:\n",
        "\n",
        "Input: path = \"/home//foo/\"\n",
        "Output: \"/home/foo\"\n",
        "Explanation: In the canonical path, multiple consecutive slashes are replaced by a single one.\n"
      ],
      "metadata": {
        "id": "fEv49FcN-o2h"
      }
    },
    {
      "cell_type": "code",
      "source": [
        "class Solution:\n",
        "  def simplifyPath(self, path: str) -> str:\n",
        "    stack = []\n",
        "\n",
        "    for str in path.split('/'):\n",
        "      if str in ('', '.'):\n",
        "        continue\n",
        "\n",
        "      if str == '..':\n",
        "        if stack:\n",
        "          stack.pop()\n",
        "      else:\n",
        "        stack.append(str)\n",
        "\n",
        "    return '/' + '/'.join(stack)"
      ],
      "metadata": {
        "id": "sTu-LDAO-vlj"
      },
      "execution_count": null,
      "outputs": []
    },
    {
      "cell_type": "markdown",
      "source": [
        "**155. Min Stack**\n"
      ],
      "metadata": {
        "id": "llCkYgOP_SmP"
      }
    },
    {
      "cell_type": "markdown",
      "source": [
        "Design a stack that supports push, pop, top, and retrieving the minimum element in constant time.\n",
        "\n",
        "Implement the MinStack class:\n",
        "\n",
        "MinStack() initializes the stack object.\n",
        "void push(int val) pushes the element val onto the stack.\n",
        "void pop() removes the element on the top of the stack.\n",
        "int top() gets the top element of the stack.\n",
        "int getMin() retrieves the minimum element in the stack.\n",
        "You must implement a solution with O(1) time complexity for each function.\n",
        "\n",
        "\n",
        "\n",
        "Example 1:\n",
        "\n",
        "Input\n",
        "[\"MinStack\",\"push\",\"push\",\"push\",\"getMin\",\"pop\",\"top\",\"getMin\"]\n",
        "[[],[-2],[0],[-3],[],[],[],[]]\n",
        "\n",
        "Output\n",
        "[null,null,null,null,-3,null,0,-2]\n",
        "\n",
        "Explanation\n",
        "MinStack minStack = new MinStack();\n",
        "minStack.push(-2);\n",
        "minStack.push(0);\n",
        "minStack.push(-3);\n",
        "minStack.getMin(); // return -3\n",
        "minStack.pop();\n",
        "minStack.top();    // return 0\n",
        "minStack.getMin(); // return -2"
      ],
      "metadata": {
        "id": "7c-n6Jzk_Wov"
      }
    },
    {
      "cell_type": "code",
      "source": [
        "class MinStack:\n",
        "  def __init__(self):\n",
        "    self.stack = []\n",
        "\n",
        "  def push(self, x: int) -> None:\n",
        "    mini = x if not self.stack else min(self.stack[-1][1], x)\n",
        "    self.stack.append([x, mini])\n",
        "\n",
        "  def pop(self) -> None:\n",
        "    self.stack.pop()\n",
        "\n",
        "  def top(self) -> int:\n",
        "    return self.stack[-1][0]\n",
        "\n",
        "  def getMin(self) -> int:\n",
        "    return self.stack[-1][1]"
      ],
      "metadata": {
        "id": "roIkJW0y_aDm"
      },
      "execution_count": null,
      "outputs": []
    },
    {
      "cell_type": "markdown",
      "source": [
        "**1877. Minimize Maximum Pair Sum in Array**\n"
      ],
      "metadata": {
        "id": "ngP2N-dM_7wa"
      }
    },
    {
      "cell_type": "markdown",
      "source": [
        "The pair sum of a pair (a,b) is equal to a + b. The maximum pair sum is the largest pair sum in a list of pairs.\n",
        "\n",
        "For example, if we have pairs (1,5), (2,3), and (4,4), the maximum pair sum would be max(1+5, 2+3, 4+4) = max(6, 5, 8) = 8.\n",
        "Given an array nums of even length n, pair up the elements of nums into n / 2 pairs such that:\n",
        "\n",
        "Each element of nums is in exactly one pair, and\n",
        "The maximum pair sum is minimized.\n",
        "Return the minimized maximum pair sum after optimally pairing up the elements.\n",
        "\n",
        "\n",
        "\n",
        "Example 1:\n",
        "\n",
        "Input: nums = [3,5,2,3]\n",
        "Output: 7\n",
        "Explanation: The elements can be paired up into pairs (3,3) and (5,2).\n",
        "The maximum pair sum is max(3+3, 5+2) = max(6, 7) = 7.\n",
        "Example 2:\n",
        "\n",
        "Input: nums = [3,5,4,2,4,6]\n",
        "Output: 8\n",
        "Explanation: The elements can be paired up into pairs (3,5), (4,4), and (6,2).\n",
        "The maximum pair sum is max(3+5, 4+4, 6+2) = max(8, 8, 8) = 8."
      ],
      "metadata": {
        "id": "ZgaG20nh_9tB"
      }
    },
    {
      "cell_type": "code",
      "source": [
        "class Solution:\n",
        "  def minPairSum(self, nums: List[int]) -> int:\n",
        "    nums.sort()\n",
        "    return max(nums[i] + nums[len(nums) - 1 - i] for i in range(len(nums) // 2))"
      ],
      "metadata": {
        "id": "WpzXStCwAA6V"
      },
      "execution_count": null,
      "outputs": []
    },
    {
      "cell_type": "markdown",
      "source": [
        "**2. Add Two Numbers**\n"
      ],
      "metadata": {
        "id": "G7uFSzuwAczE"
      }
    },
    {
      "cell_type": "markdown",
      "source": [
        "You are given two non-empty linked lists representing two non-negative integers. The digits are stored in reverse order, and each of their nodes contains a single digit. Add the two numbers and return the sum as a linked list.\n",
        "\n",
        "You may assume the two numbers do not contain any leading zero, except the number 0 itself."
      ],
      "metadata": {
        "id": "DxfYirNtAeSP"
      }
    },
    {
      "cell_type": "code",
      "source": [
        "class Solution:\n",
        "  def addTwoNumbers(self, l1: ListNode, l2: ListNode) -> ListNode:\n",
        "    dummy = ListNode(0)\n",
        "    curr = dummy\n",
        "    carry = 0\n",
        "\n",
        "    while carry or l1 or l2:\n",
        "      if l1:\n",
        "        carry += l1.val\n",
        "        l1 = l1.next\n",
        "      if l2:\n",
        "        carry += l2.val\n",
        "        l2 = l2.next\n",
        "      curr.next = ListNode(carry % 10)\n",
        "      carry //= 10\n",
        "      curr = curr.next\n",
        "\n",
        "    return dummy.next"
      ],
      "metadata": {
        "id": "Q1XGUb9QAg6U"
      },
      "execution_count": null,
      "outputs": []
    },
    {
      "cell_type": "markdown",
      "source": [
        "**21. Merge Two Sorted Lists**\n"
      ],
      "metadata": {
        "id": "vC3xfKMhA2Av"
      }
    },
    {
      "cell_type": "markdown",
      "source": [
        "You are given the heads of two sorted linked lists list1 and list2.\n",
        "\n",
        "Merge the two lists into one sorted list. The list should be made by splicing together the nodes of the first two lists.\n",
        "\n",
        "Return the head of the merged linked list."
      ],
      "metadata": {
        "id": "MwlA38anA3mi"
      }
    },
    {
      "cell_type": "code",
      "source": [
        "class Solution:\n",
        "  def mergeTwoLists(self, list1: Optional[ListNode], list2: Optional[ListNode]) -> Optional[ListNode]:\n",
        "    if not list1 or not list2:\n",
        "      return list1 if list1 else list2\n",
        "    if list1.val > list2.val:\n",
        "      list1, list2 = list2, list1\n",
        "    list1.next = self.mergeTwoLists(list1.next, list2)\n",
        "    return list1"
      ],
      "metadata": {
        "id": "OWWqeIDxA6Xx"
      },
      "execution_count": null,
      "outputs": []
    },
    {
      "cell_type": "markdown",
      "source": [
        "**138. Copy List with Random Pointer**\n"
      ],
      "metadata": {
        "id": "O6_lOHeZBN6k"
      }
    },
    {
      "cell_type": "markdown",
      "source": [
        "A linked list of length n is given such that each node contains an additional random pointer, which could point to any node in the list, or null.\n",
        "\n",
        "Construct a deep copy of the list. The deep copy should consist of exactly n brand new nodes, where each new node has its value set to the value of its corresponding original node. Both the next and random pointer of the new nodes should point to new nodes in the copied list such that the pointers in the original list and copied list represent the same list state. None of the pointers in the new list should point to nodes in the original list.\n",
        "\n",
        "For example, if there are two nodes X and Y in the original list, where X.random --> Y, then for the corresponding two nodes x and y in the copied list, x.random --> y.\n",
        "\n",
        "Return the head of the copied linked list.\n",
        "\n",
        "The linked list is represented in the input/output as a list of n nodes. Each node is represented as a pair of [val, random_index] where:\n",
        "\n",
        "val: an integer representing Node.val\n",
        "random_index: the index of the node (range from 0 to n-1) that the random pointer points to, or null if it does not point to any node.\n",
        "Your code will only be given the head of the original linked list."
      ],
      "metadata": {
        "id": "DqXlFpmuBPiX"
      }
    },
    {
      "cell_type": "code",
      "source": [
        "class Solution:\n",
        "  def copyRandomList(self, head: 'Node') -> 'Node':\n",
        "    if not head:\n",
        "      return None\n",
        "    if head in self.map:\n",
        "      return self.map[head]\n",
        "\n",
        "    newNode = Node(head.val)\n",
        "    self.map[head] = newNode\n",
        "    newNode.next = self.copyRandomList(head.next)\n",
        "    newNode.random = self.copyRandomList(head.random)\n",
        "    return newNode\n",
        "\n",
        "  map = {}"
      ],
      "metadata": {
        "id": "QQyJ7G3_BTr5"
      },
      "execution_count": null,
      "outputs": []
    },
    {
      "cell_type": "markdown",
      "source": [
        "**2391. Minimum Amount of Time to Collect Garbage**\n"
      ],
      "metadata": {
        "id": "6ai8Zzr4B8KF"
      }
    },
    {
      "cell_type": "markdown",
      "source": [
        "You are given a 0-indexed array of strings garbage where garbage[i] represents the assortment of garbage at the ith house. garbage[i] consists only of the characters 'M', 'P' and 'G' representing one unit of metal, paper and glass garbage respectively. Picking up one unit of any type of garbage takes 1 minute.\n",
        "\n",
        "You are also given a 0-indexed integer array travel where travel[i] is the number of minutes needed to go from house i to house i + 1.\n",
        "\n",
        "There are three garbage trucks in the city, each responsible for picking up one type of garbage. Each garbage truck starts at house 0 and must visit each house in order; however, they do not need to visit every house.\n",
        "\n",
        "Only one garbage truck may be used at any given moment. While one truck is driving or picking up garbage, the other two trucks cannot do anything.\n",
        "\n",
        "Return the minimum number of minutes needed to pick up all the garbage.\n",
        "\n",
        "\n",
        "\n",
        "Example 1:\n",
        "\n",
        "Input: garbage = [\"G\",\"P\",\"GP\",\"GG\"], travel = [2,4,3]\n",
        "Output: 21\n",
        "Explanation:\n",
        "The paper garbage truck:\n",
        "1. Travels from house 0 to house 1\n",
        "2. Collects the paper garbage at house 1\n",
        "3. Travels from house 1 to house 2\n",
        "4. Collects the paper garbage at house 2\n",
        "Altogether, it takes 8 minutes to pick up all the paper garbage.\n",
        "The glass garbage truck:\n",
        "1. Collects the glass garbage at house 0\n",
        "2. Travels from house 0 to house 1\n",
        "3. Travels from house 1 to house 2\n",
        "4. Collects the glass garbage at house 2\n",
        "5. Travels from house 2 to house 3\n",
        "6. Collects the glass garbage at house 3\n",
        "Altogether, it takes 13 minutes to pick up all the glass garbage.\n",
        "Since there is no metal garbage, we do not need to consider the metal garbage truck.\n",
        "Therefore, it takes a total of 8 + 13 = 21 minutes to collect all the garbage.\n",
        "Example 2:\n",
        "\n",
        "Input: garbage = [\"MMM\",\"PGM\",\"GP\"], travel = [3,10]\n",
        "Output: 37\n",
        "Explanation:\n",
        "The metal garbage truck takes 7 minutes to pick up all the metal garbage.\n",
        "The paper garbage truck takes 15 minutes to pick up all the paper garbage.\n",
        "The glass garbage truck takes 15 minutes to pick up all the glass garbage.\n",
        "It takes a total of 7 + 15 + 15 = 37 minutes to collect all the garbage."
      ],
      "metadata": {
        "id": "7HU01BhQB9qq"
      }
    },
    {
      "cell_type": "code",
      "source": [
        "class Solution:\n",
        "  def garbageCollection(self, garbage: List[str], travel: List[int]) -> int:\n",
        "    prefix = list(itertools.accumulate(travel))\n",
        "\n",
        "    def getTime(c: str) -> int:\n",
        "      characterCount = 0\n",
        "      lastIndex = -1\n",
        "      for i, s in enumerate(garbage):\n",
        "        if any(g == c for g in s):\n",
        "          lastIndex = i\n",
        "        characterCount += s.count(c)\n",
        "      return characterCount + (0 if lastIndex <= 0 else prefix[lastIndex - 1])\n",
        "\n",
        "    return getTime('M') + getTime('P') + getTime('G')"
      ],
      "metadata": {
        "id": "8Kc-uPJ_CBQN"
      },
      "execution_count": null,
      "outputs": []
    },
    {
      "cell_type": "markdown",
      "source": [
        "**129. Sum Root to Leaf Numbers**\n"
      ],
      "metadata": {
        "id": "msrd59fkzOUJ"
      }
    },
    {
      "cell_type": "markdown",
      "source": [
        "You are given the root of a binary tree containing digits from 0 to 9 only.\n",
        "\n",
        "Each root-to-leaf path in the tree represents a number.\n",
        "\n",
        "For example, the root-to-leaf path 1 -> 2 -> 3 represents the number 123.\n",
        "Return the total sum of all root-to-leaf numbers. Test cases are generated so that the answer will fit in a 32-bit integer.\n",
        "\n",
        "A leaf node is a node with no children."
      ],
      "metadata": {
        "id": "ZGnHsYfXzQOy"
      }
    },
    {
      "cell_type": "code",
      "source": [
        "class Solution:\n",
        "  def sumNumbers(self, root: Optional[TreeNode]) -> int:\n",
        "    ans = 0\n",
        "\n",
        "    def dfs(root: Optional[TreeNode], path: int) -> None:\n",
        "      nonlocal ans\n",
        "      if not root:\n",
        "        return\n",
        "      if not root.left and not root.right:\n",
        "        ans += path * 10 + root.val\n",
        "        return\n",
        "\n",
        "      dfs(root.left, path * 10 + root.val)\n",
        "      dfs(root.right, path * 10 + root.val)\n",
        "\n",
        "    dfs(root, 0)\n",
        "    return ans"
      ],
      "metadata": {
        "id": "_7HMPsINzhRJ"
      },
      "execution_count": null,
      "outputs": []
    },
    {
      "cell_type": "markdown",
      "source": [
        "**222. Count Complete Tree Nodes**\n"
      ],
      "metadata": {
        "id": "0WXMcPsczzxS"
      }
    },
    {
      "cell_type": "markdown",
      "source": [
        "Given the root of a complete binary tree, return the number of the nodes in the tree.\n",
        "\n",
        "According to Wikipedia, every level, except possibly the last, is completely filled in a complete binary tree, and all nodes in the last level are as far left as possible. It can have between 1 and 2h nodes inclusive at the last level h.\n",
        "\n",
        "Design an algorithm that runs in less than O(n) time complexity."
      ],
      "metadata": {
        "id": "v_c3ndo3z1MU"
      }
    },
    {
      "cell_type": "code",
      "source": [
        "class Solution:\n",
        "  def countNodes(self, root: Optional[TreeNode]) -> int:\n",
        "    if not root:\n",
        "      return 0\n",
        "    return 1 + self.countNodes(root.left) + self.countNodes(root.right)"
      ],
      "metadata": {
        "id": "qATeDf5ez3lF"
      },
      "execution_count": null,
      "outputs": []
    },
    {
      "cell_type": "markdown",
      "source": [
        "**173. Binary Search Tree Iterator**\n"
      ],
      "metadata": {
        "id": "YgsPU5Xs0SUE"
      }
    },
    {
      "cell_type": "markdown",
      "source": [
        "Implement the BSTIterator class that represents an iterator over the in-order traversal of a binary search tree (BST):\n",
        "\n",
        "BSTIterator(TreeNode root) Initializes an object of the BSTIterator class. The root of the BST is given as part of the constructor. The pointer should be initialized to a non-existent number smaller than any element in the BST.\n",
        "boolean hasNext() Returns true if there exists a number in the traversal to the right of the pointer, otherwise returns false.\n",
        "int next() Moves the pointer to the right, then returns the number at the pointer.\n",
        "Notice that by initializing the pointer to a non-existent smallest number, the first call to next() will return the smallest element in the BST.\n",
        "\n",
        "You may assume that next() calls will always be valid. That is, there will be at least a next number in the in-order traversal when next() is called."
      ],
      "metadata": {
        "id": "X6Sabcge0T2X"
      }
    },
    {
      "cell_type": "code",
      "source": [
        "class BSTIterator:\n",
        "  def __init__(self, root: Optional[TreeNode]):\n",
        "    self.i = 0\n",
        "    self.vals = []\n",
        "    self._inorder(root)\n",
        "\n",
        "  def next(self) -> int:\n",
        "    self.i += 1\n",
        "    return self.vals[self.i - 1]\n",
        "\n",
        "  def hasNext(self) -> bool:\n",
        "    return self.i < len(self.vals)\n",
        "\n",
        "  def _inorder(self, root: Optional[TreeNode]) -> None:\n",
        "    if not root:\n",
        "      return\n",
        "    self._inorder(root.left)\n",
        "    self.vals.append(root.val)\n",
        "    self._inorder(root.right)"
      ],
      "metadata": {
        "id": "M38_8Wo00W5n"
      },
      "execution_count": null,
      "outputs": []
    },
    {
      "cell_type": "markdown",
      "source": [
        "**1424. Diagonal Traverse II**"
      ],
      "metadata": {
        "id": "960xD2du3Wdl"
      }
    },
    {
      "cell_type": "markdown",
      "source": [
        "Given a 2D integer array nums, return all elements of nums in diagonal order as shown in the below images.\n",
        "Input: nums = [[1,2,3],[4,5,6],[7,8,9]]\n",
        "Output: [1,4,2,7,5,3,8,6,9]\n",
        "\n",
        "Input: nums = [[1,2,3,4,5],[6,7],[8],[9,10,11],[12,13,14,15,16]]\n",
        "Output: [1,6,2,8,7,3,9,4,12,10,5,13,11,14,15,16]"
      ],
      "metadata": {
        "id": "5APy3BFb3X5O"
      }
    },
    {
      "cell_type": "code",
      "source": [
        "class Solution:\n",
        "    def findDiagonalOrder(self, nums: List[List[int]]) -> List[int]:\n",
        "        diags = defaultdict(list)\n",
        "        rows = len(nums)\n",
        "        for row in range (rows-1,-1,-1):\n",
        "            for col in range(0,len(nums[row])):\n",
        "                diags[row+col].append(nums[row][col])\n",
        "        res = []\n",
        "        key = 0\n",
        "        while key in diags:\n",
        "            res +=diags[key]\n",
        "            key +=1\n",
        "        return res"
      ],
      "metadata": {
        "id": "mGKfMU7m3gYk"
      },
      "execution_count": null,
      "outputs": []
    },
    {
      "cell_type": "markdown",
      "source": [
        "**199. Binary Tree Right Side View**\n"
      ],
      "metadata": {
        "id": "BW1Ou4lqHlq5"
      }
    },
    {
      "cell_type": "markdown",
      "source": [
        "Given the root of a binary tree, imagine yourself standing on the right side of it, return the values of the nodes you can see ordered from top to bottom.\n",
        "Input: root = [1,2,3,null,5,null,4]\n",
        "Output: [1,3,4]\n",
        "Example 2:\n",
        "\n",
        "Input: root = [1,null,3]\n",
        "Output: [1,3]\n",
        "Example 3:\n",
        "\n",
        "Input: root = []\n",
        "Output: []"
      ],
      "metadata": {
        "id": "Jh_yWiHkHm7q"
      }
    },
    {
      "cell_type": "code",
      "source": [
        "class Solution:\n",
        "  def rightSideView(self, root: Optional[TreeNode]) -> List[int]:\n",
        "    if not root:\n",
        "      return []\n",
        "\n",
        "    ans = []\n",
        "    q = collections.deque([root])\n",
        "\n",
        "    while q:\n",
        "      size = len(q)\n",
        "      for i in range(size):\n",
        "        root = q.popleft()\n",
        "        if i == size - 1:\n",
        "          ans.append(root.val)\n",
        "        if root.left:\n",
        "          q.append(root.left)\n",
        "        if root.right:\n",
        "          q.append(root.right)\n",
        "\n",
        "    return ans"
      ],
      "metadata": {
        "id": "1vAIlx2HHs53"
      },
      "execution_count": null,
      "outputs": []
    },
    {
      "cell_type": "markdown",
      "source": [
        "**637. Average of Levels in Binary Tree**\n"
      ],
      "metadata": {
        "id": "jq23ivcFII9V"
      }
    },
    {
      "cell_type": "markdown",
      "source": [
        "Given the root of a binary tree, return the average value of the nodes on each level in the form of an array. Answers within 10-5 of the actual answer will be accepted.\n",
        "Input: root = [3,9,20,null,null,15,7]\n",
        "Output: [3.00000,14.50000,11.00000]\n",
        "Explanation: The average value of nodes on level 0 is 3, on level 1 is 14.5, and on level 2 is 11.\n",
        "Hence return [3, 14.5, 11].\n",
        "Input: root = [3,9,20,15,7]\n",
        "Output: [3.00000,14.50000,11.00000]"
      ],
      "metadata": {
        "id": "WSzHQlVbIKW0"
      }
    },
    {
      "cell_type": "code",
      "source": [
        "class Solution:\n",
        "    def averageOfLevels(self, root: TreeNode) -> List[float]:\n",
        "        levels = []\n",
        "        next_level = deque([root])\n",
        "\n",
        "        while root and next_level:\n",
        "            curr_level = next_level\n",
        "            next_level = deque()\n",
        "            levels.append([])\n",
        "\n",
        "            for node in curr_level:\n",
        "                levels[-1].append(node.val)\n",
        "                if node.left:\n",
        "                    next_level.append(node.left)\n",
        "                if node.right:\n",
        "                    next_level.append(node.right)\n",
        "\n",
        "        levels_sums = [sum(x)/len(x) for x in levels]\n",
        "        return levels_sums"
      ],
      "metadata": {
        "id": "rAF8C-UYIRvk"
      },
      "execution_count": null,
      "outputs": []
    },
    {
      "cell_type": "markdown",
      "source": [
        "**102. Binary Tree Level Order Traversal**\n"
      ],
      "metadata": {
        "id": "yX_dgyuhIxhf"
      }
    },
    {
      "cell_type": "markdown",
      "source": [
        "Given the root of a binary tree, return the level order traversal of its nodes' values. (i.e., from left to right, level by level).\n",
        "Input: root = [3,9,20,null,null,15,7]\n",
        "Output: [[3],[9,20],[15,7]]\n",
        "Example 2:\n",
        "\n",
        "Input: root = [1]\n",
        "Output: [[1]]\n",
        "Example 3:\n",
        "\n",
        "Input: root = []\n",
        "Output: []"
      ],
      "metadata": {
        "id": "AVPAdzfoIy9H"
      }
    },
    {
      "cell_type": "code",
      "source": [
        "class Solution:\n",
        "  def levelOrder(self, root: Optional[TreeNode]) -> List[List[int]]:\n",
        "    if not root:\n",
        "      return []\n",
        "\n",
        "    ans = []\n",
        "    q = collections.deque([root])\n",
        "\n",
        "    while q:\n",
        "      currLevel = []\n",
        "      for _ in range(len(q)):\n",
        "        node = q.popleft()\n",
        "        currLevel.append(node.val)\n",
        "        if node.left:\n",
        "          q.append(node.left)\n",
        "        if node.right:\n",
        "          q.append(node.right)\n",
        "      ans.append(currLevel)\n",
        "\n",
        "    return ans"
      ],
      "metadata": {
        "id": "MbrcQP7vI5DJ"
      },
      "execution_count": null,
      "outputs": []
    },
    {
      "cell_type": "markdown",
      "source": [
        "**103. Binary Tree Zigzag Level Order Traversal**\n"
      ],
      "metadata": {
        "id": "Y88LLILFJStc"
      }
    },
    {
      "cell_type": "markdown",
      "source": [
        "Given the root of a binary tree, return the zigzag level order traversal of its nodes' values. (i.e., from left to right, then right to left for the next level and alternate between).\n",
        "Input: root = [3,9,20,null,null,15,7]\n",
        "Output: [[3],[20,9],[15,7]]\n",
        "Example 2:\n",
        "\n",
        "Input: root = [1]\n",
        "Output: [[1]]\n",
        "Example 3:\n",
        "\n",
        "Input: root = []\n",
        "Output: []"
      ],
      "metadata": {
        "id": "b8cKyj9dJUCM"
      }
    },
    {
      "cell_type": "code",
      "source": [
        "class Solution:\n",
        "  def zigzagLevelOrder(self, root: Optional[TreeNode]) -> List[List[int]]:\n",
        "    if not root:\n",
        "      return []\n",
        "\n",
        "    ans = []\n",
        "    dq = collections.deque([root])\n",
        "    isLeftToRight = True\n",
        "\n",
        "    while dq:\n",
        "      currLevel = []\n",
        "      for _ in range(len(dq)):\n",
        "        if isLeftToRight:\n",
        "          node = dq.popleft()\n",
        "          currLevel.append(node.val)\n",
        "          if node.left:\n",
        "            dq.append(node.left)\n",
        "          if node.right:\n",
        "            dq.append(node.right)\n",
        "        else:\n",
        "          node = dq.pop()\n",
        "          currLevel.append(node.val)\n",
        "          if node.right:\n",
        "            dq.appendleft(node.right)\n",
        "          if node.left:\n",
        "            dq.appendleft(node.left)\n",
        "      ans.append(currLevel)\n",
        "      isLeftToRight = not isLeftToRight\n",
        "\n",
        "    return ans"
      ],
      "metadata": {
        "id": "K9s_rizTJZ0H"
      },
      "execution_count": null,
      "outputs": []
    },
    {
      "cell_type": "markdown",
      "source": [
        "**9. Palindrome Number**\n"
      ],
      "metadata": {
        "id": "MUTP5iCNZi-K"
      }
    },
    {
      "cell_type": "markdown",
      "source": [
        "Given an integer x, return true if x is a\n",
        "palindrome\n",
        ", and false otherwise.\n",
        "\n",
        "\n",
        "\n",
        "Example 1:\n",
        "\n",
        "Input: x = 121\n",
        "Output: true\n",
        "Explanation: 121 reads as 121 from left to right and from right to left.\n",
        "Example 2:\n",
        "\n",
        "Input: x = -121\n",
        "Output: false\n",
        "Explanation: From left to right, it reads -121. From right to left, it becomes 121-. Therefore it is not a palindrome.\n",
        "Example 3:\n",
        "\n",
        "Input: x = 10\n",
        "Output: false\n",
        "Explanation: Reads 01 from right to left. Therefore it is not a palindrome.\n"
      ],
      "metadata": {
        "id": "AVOxUIYCZkTe"
      }
    },
    {
      "cell_type": "code",
      "source": [
        "class Solution:\n",
        "  def isPalindrome(self, x: int) -> bool:\n",
        "    if x < 0:\n",
        "      return False\n",
        "\n",
        "    rev = 0\n",
        "    y = x\n",
        "\n",
        "    while y:\n",
        "      rev = rev * 10 + y % 10\n",
        "      y //= 10\n",
        "\n",
        "    return rev == x"
      ],
      "metadata": {
        "id": "htVDvsMyZqTB"
      },
      "execution_count": null,
      "outputs": []
    },
    {
      "cell_type": "markdown",
      "source": [
        "**66. Plus One**\n"
      ],
      "metadata": {
        "id": "GWo2SgJxaBoz"
      }
    },
    {
      "cell_type": "markdown",
      "source": [
        "You are given a large integer represented as an integer array digits, where each digits[i] is the ith digit of the integer. The digits are ordered from most significant to least significant in left-to-right order. The large integer does not contain any leading 0's.\n",
        "\n",
        "Increment the large integer by one and return the resulting array of digits.\n",
        "\n",
        "\n",
        "\n",
        "Example 1:\n",
        "\n",
        "Input: digits = [1,2,3]\n",
        "Output: [1,2,4]\n",
        "Explanation: The array represents the integer 123.\n",
        "Incrementing by one gives 123 + 1 = 124.\n",
        "Thus, the result should be [1,2,4].\n",
        "Example 2:\n",
        "\n",
        "Input: digits = [4,3,2,1]\n",
        "Output: [4,3,2,2]\n",
        "Explanation: The array represents the integer 4321.\n",
        "Incrementing by one gives 4321 + 1 = 4322.\n",
        "Thus, the result should be [4,3,2,2].\n",
        "Example 3:\n",
        "\n",
        "Input: digits = [9]\n",
        "Output: [1,0]\n",
        "Explanation: The array represents the integer 9.\n",
        "Incrementing by one gives 9 + 1 = 10.\n",
        "Thus, the result should be [1,0]."
      ],
      "metadata": {
        "id": "-t1v_QTjaC5n"
      }
    },
    {
      "cell_type": "code",
      "source": [
        "class Solution:\n",
        "  def plusOne(self, digits: List[int]) -> List[int]:\n",
        "    for i, d in reversed(list(enumerate(digits))):\n",
        "      if d < 9:\n",
        "        digits[i] += 1\n",
        "        return digits\n",
        "      digits[i] = 0\n",
        "\n",
        "    return [1] + digits"
      ],
      "metadata": {
        "id": "n92mzHT0acr0"
      },
      "execution_count": null,
      "outputs": []
    },
    {
      "cell_type": "markdown",
      "source": [
        "**172. Factorial Trailing Zeroes**\n"
      ],
      "metadata": {
        "id": "rHvWpbtYas09"
      }
    },
    {
      "cell_type": "markdown",
      "source": [
        "Given an integer n, return the number of trailing zeroes in n!.\n",
        "\n",
        "Note that n! = n * (n - 1) * (n - 2) * ... * 3 * 2 * 1.\n",
        "\n",
        "\n",
        "\n",
        "Example 1:\n",
        "\n",
        "Input: n = 3\n",
        "Output: 0\n",
        "Explanation: 3! = 6, no trailing zero.\n",
        "Example 2:\n",
        "\n",
        "Input: n = 5\n",
        "Output: 1\n",
        "Explanation: 5! = 120, one trailing zero.\n",
        "Example 3:\n",
        "\n",
        "Input: n = 0\n",
        "Output: 0"
      ],
      "metadata": {
        "id": "ZKKjxgPMausZ"
      }
    },
    {
      "cell_type": "code",
      "source": [
        "class Solution:\n",
        "  def trailingZeroes(self, n: int) -> int:\n",
        "    return 0 if n == 0 else n // 5 + self.trailingZeroes(n // 5)"
      ],
      "metadata": {
        "id": "-CQqiXY3ax-e"
      },
      "execution_count": null,
      "outputs": []
    },
    {
      "cell_type": "markdown",
      "source": [
        "**2264. Largest 3-Same-Digit Number in String**\n"
      ],
      "metadata": {
        "id": "vEg0DPkhbUu_"
      }
    },
    {
      "cell_type": "markdown",
      "source": [
        "You are given a string num representing a large integer. An integer is good if it meets the following conditions:\n",
        "\n",
        "It is a substring of num with length 3.\n",
        "It consists of only one unique digit.\n",
        "Return the maximum good integer as a string or an empty string \"\" if no such integer exists.\n",
        "\n",
        "Note:\n",
        "\n",
        "A substring is a contiguous sequence of characters within a string.\n",
        "There may be leading zeroes in num or a good integer.\n",
        "\n",
        "\n",
        "Example 1:\n",
        "\n",
        "Input: num = \"6777133339\"\n",
        "Output: \"777\"\n",
        "Explanation: There are two distinct good integers: \"777\" and \"333\".\n",
        "\"777\" is the largest, so we return \"777\".\n",
        "Example 2:\n",
        "\n",
        "Input: num = \"2300019\"\n",
        "Output: \"000\"\n",
        "Explanation: \"000\" is the only good integer.\n",
        "Example 3:\n",
        "\n",
        "Input: num = \"42352338\"\n",
        "Output: \"\"\n",
        "Explanation: No substring of length 3 consists of only one unique digit. Therefore, there are no good integers."
      ],
      "metadata": {
        "id": "CKG99t7RbXFx"
      }
    },
    {
      "cell_type": "code",
      "source": [
        "class Solution:\n",
        "  def largestGoodInteger(self, num: str) -> str:\n",
        "    return max(num[i - 2:i + 1]\n",
        "               if num[i] == num[i - 1] == num[i - 2]\n",
        "               else '' for i in range(2, len(num)))"
      ],
      "metadata": {
        "id": "-KqyehO0bmK8"
      },
      "execution_count": null,
      "outputs": []
    },
    {
      "cell_type": "markdown",
      "source": [
        "**1716. Calculate Money in Leetcode Bank**\n"
      ],
      "metadata": {
        "id": "sa1Dt3g5RcS-"
      }
    },
    {
      "cell_type": "markdown",
      "source": [
        "Hercy wants to save money for his first car. He puts money in the Leetcode bank every day.\n",
        "\n",
        "He starts by putting in $1 on Monday, the first day. Every day from Tuesday to Sunday, he will put in $1 more than the day before. On every subsequent Monday, he will put in $1 more than the previous Monday.\n",
        "Given n, return the total amount of money he will have in the Leetcode bank at the end of the nth day.\n",
        "\n",
        "\n",
        "\n",
        "Example 1:\n",
        "\n",
        "Input: n = 4\n",
        "Output: 10\n",
        "Explanation: After the 4th day, the total is 1 + 2 + 3 + 4 = 10.\n",
        "Example 2:\n",
        "\n",
        "Input: n = 10\n",
        "Output: 37\n",
        "Explanation: After the 10th day, the total is (1 + 2 + 3 + 4 + 5 + 6 + 7) + (2 + 3 + 4) = 37. Notice that on the 2nd Monday, Hercy only puts in $2.\n",
        "Example 3:\n",
        "\n",
        "Input: n = 20\n",
        "Output: 96\n",
        "Explanation: After the 20th day, the total is (1 + 2 + 3 + 4 + 5 + 6 + 7) + (2 + 3 + 4 + 5 + 6 + 7 + 8) + (3 + 4 + 5 + 6 + 7 + 8) = 96."
      ],
      "metadata": {
        "id": "0upJEH8eReJ1"
      }
    },
    {
      "cell_type": "code",
      "source": [
        "class Solution:\n",
        "  def totalMoney(self, n: int) -> int:\n",
        "    def safer(a: int, b: int) -> int:\n",
        "\n",
        "      return (a + b) * (b - a + 1) // 2\n",
        "\n",
        "    weeks = n // 7\n",
        "    firstWeek = safer(1, 7)\n",
        "    lastFullWeek = safer(1 + weeks - 1, 7 + weeks - 1)\n",
        "    remainingDays = safer(1 + weeks, n % 7 + weeks)\n",
        "    return (firstWeek + lastFullWeek) * weeks // 2 + remainingDays"
      ],
      "metadata": {
        "id": "r9z3pJkxRj5p"
      },
      "execution_count": null,
      "outputs": []
    },
    {
      "cell_type": "markdown",
      "source": [
        "**141. Linked List Cycle**\n"
      ],
      "metadata": {
        "id": "ExVK-U2xT_1l"
      }
    },
    {
      "cell_type": "markdown",
      "source": [
        "Given head, the head of a linked list, determine if the linked list has a cycle in it.\n",
        "\n",
        "There is a cycle in a linked list if there is some node in the list that can be reached again by continuously following the next pointer. Internally, pos is used to denote the index of the node that tail's next pointer is connected to. Note that pos is not passed as a parameter.\n",
        "\n",
        "Return true if there is a cycle in the linked list. Otherwise, return false.\n",
        "\n",
        "\n",
        "\n",
        "Example 1:\n",
        "\n",
        "\n",
        "Input: head = [3,2,0,-4], pos = 1\n",
        "Output: true\n",
        "Explanation: There is a cycle in the linked list, where the tail connects to the 1st node (0-indexed).\n",
        "Example 2:\n",
        "\n",
        "\n",
        "Input: head = [1,2], pos = 0\n",
        "Output: true\n",
        "Explanation: There is a cycle in the linked list, where the tail connects to the 0th node.\n",
        "Example 3:\n",
        "\n",
        "\n",
        "Input: head = [1], pos = -1\n",
        "Output: false\n",
        "Explanation: There is no cycle in the linked list."
      ],
      "metadata": {
        "id": "3lTmlW8UUBIM"
      }
    },
    {
      "cell_type": "code",
      "source": [
        "class Solution:\n",
        "  def hasCycle(self, head: ListNode) -> bool:\n",
        "    slow = head\n",
        "    fast = head\n",
        "\n",
        "    while fast and fast.next:\n",
        "      slow = slow.next\n",
        "      fast = fast.next.next\n",
        "      if slow == fast:\n",
        "        return True\n",
        "\n",
        "    return False"
      ],
      "metadata": {
        "id": "cDIWL5asUEQ8"
      },
      "execution_count": null,
      "outputs": []
    },
    {
      "cell_type": "markdown",
      "source": [
        "**92. Reverse Linked List II**\n"
      ],
      "metadata": {
        "id": "oa4L8uksFs-5"
      }
    },
    {
      "cell_type": "markdown",
      "source": [
        "Given the head of a singly linked list and two integers left and right where left <= right, reverse the nodes of the list from position left to position right, and return the reversed list.\n",
        "\n",
        " Input: head = [1,2,3,4,5], left = 2, right = 4\n",
        "Output: [1,4,3,2,5]\n",
        "Example 2:\n",
        "\n",
        "Input: head = [5], left = 1, right = 1\n",
        "Output: [5]\n"
      ],
      "metadata": {
        "id": "GsyaJ8RZFuz5"
      }
    },
    {
      "cell_type": "code",
      "source": [
        "class Solution:\n",
        "  def reverseBetween(self, head: Optional[ListNode], left: int, right: int) -> Optional[ListNode]:\n",
        "    if left == 1:\n",
        "      return self.reverseN(head, right)\n",
        "\n",
        "    head.next = self.reverseBetween(head.next, left - 1, right - 1)\n",
        "    return head\n",
        "\n",
        "  def reverseN(self, head: Optional[ListNode], n: int) -> Optional[ListNode]:\n",
        "    if n == 1:\n",
        "      return head\n",
        "\n",
        "    newHead = self.reverseN(head.next, n - 1)\n",
        "    headNext = head.next\n",
        "    head.next = headNext.next\n",
        "    headNext.next = head\n",
        "    return newHead"
      ],
      "metadata": {
        "id": "p0Z9VjrEF0zX"
      },
      "execution_count": null,
      "outputs": []
    },
    {
      "cell_type": "markdown",
      "source": [
        "**108. Convert Sorted Array to Binary Search Tree**\n"
      ],
      "metadata": {
        "id": "gEwKfY1fGk5E"
      }
    },
    {
      "cell_type": "markdown",
      "source": [
        "Given an integer array nums where the elements are sorted in ascending order, convert it to a\n",
        "height-balanced\n",
        " binary search tree.\n",
        "\n"
      ],
      "metadata": {
        "id": "n3mdOf2wGmNX"
      }
    },
    {
      "cell_type": "code",
      "source": [
        "class Solution:\n",
        "  def sortedArrayToBST(self, nums: List[int]) -> Optional[TreeNode]:\n",
        "    def build(l: int, r: int) -> Optional[TreeNode]:\n",
        "      if l > r:\n",
        "        return None\n",
        "      m = (l + r) // 2\n",
        "      return TreeNode(nums[m],\n",
        "                      build(l, m - 1),\n",
        "                      build(m + 1, r))\n",
        "\n",
        "    return build(0, len(nums) - 1)"
      ],
      "metadata": {
        "id": "zEdgLQflGq0U"
      },
      "execution_count": null,
      "outputs": []
    },
    {
      "cell_type": "markdown",
      "source": [
        "**1903. Largest Odd Number in String**\n"
      ],
      "metadata": {
        "id": "0DUHGd4DHFPw"
      }
    },
    {
      "cell_type": "markdown",
      "source": [
        "You are given a string num, representing a large integer. Return the largest-valued odd integer (as a string) that is a non-empty substring of num, or an empty string \"\" if no odd integer exists.\n",
        "\n",
        "A substring is a contiguous sequence of characters within a string.\n",
        "\n",
        "\n",
        "\n",
        "Example 1:\n",
        "\n",
        "Input: num = \"52\"\n",
        "Output: \"5\"\n",
        "Explanation: The only non-empty substrings are \"5\", \"2\", and \"52\". \"5\" is the only odd number.\n",
        "Example 2:\n",
        "\n",
        "Input: num = \"4206\"\n",
        "Output: \"\"\n",
        "Explanation: There are no odd numbers in \"4206\".\n",
        "Example 3:\n",
        "\n",
        "Input: num = \"35427\"\n",
        "Output: \"35427\"\n",
        "Explanation: \"35427\" is already an odd number."
      ],
      "metadata": {
        "id": "N6TSkKPQHGnR"
      }
    },
    {
      "cell_type": "code",
      "source": [
        "class Solution:\n",
        "  def largestOddNumber(self, num: str) -> str:\n",
        "    for i, n in reversed(list(enumerate(num))):\n",
        "      if int(n) & 1:\n",
        "        return num[:i + 1]\n",
        "    return ''"
      ],
      "metadata": {
        "id": "ooInLu4FHJpa"
      },
      "execution_count": null,
      "outputs": []
    },
    {
      "cell_type": "markdown",
      "source": [
        "You are given two integer arrays nums1 and nums2, sorted in non-decreasing order, and two integers m and n, representing the number of elements in nums1 and nums2 respectively.\n",
        "\n",
        "Merge nums1 and nums2 into a single array sorted in non-decreasing order.\n",
        "\n",
        "The final sorted array should not be returned by the function, but instead be stored inside the array nums1. To accommodate this, nums1 has a length of m + n, where the first m elements denote the elements that should be merged, and the last n elements are set to 0 and should be ignored. nums2 has a length of n.\n",
        "\n",
        "\n",
        "\n",
        "Example 1:\n",
        "\n",
        "Input: nums1 = [1,2,3,0,0,0], m = 3, nums2 = [2,5,6], n = 3\n",
        "Output: [1,2,2,3,5,6]\n",
        "Explanation: The arrays we are merging are [1,2,3] and [2,5,6].\n",
        "The result of the merge is [1,2,2,3,5,6] with the underlined elements coming from nums1.\n",
        "Example 2:\n",
        "\n",
        "Input: nums1 = [1], m = 1, nums2 = [], n = 0\n",
        "Output: [1]\n",
        "Explanation: The arrays we are merging are [1] and [].\n",
        "The result of the merge is [1].\n",
        "Example 3:\n",
        "\n",
        "Input: nums1 = [0], m = 0, nums2 = [1], n = 1\n",
        "Output: [1]\n",
        "Explanation: The arrays we are merging are [] and [1].\n",
        "The result of the merge is [1].\n",
        "Note that because m = 0, there are no elements in nums1. The 0 is only there to ensure the merge result can fit in nums1."
      ],
      "metadata": {
        "id": "_8KacSoefhQu"
      }
    },
    {
      "cell_type": "code",
      "source": [
        "class Solution:\n",
        "    def merge(self, nums1: List[int], m: int, nums2: List[int], n: int) -> None:\n",
        "        \"\"\"\n",
        "        Do not return anything, modify nums1 in-place instead.\n",
        "        \"\"\"\n",
        "        i = m - 1  # nums1's index (the actual nums)\n",
        "        j = n - 1  # nums2's index\n",
        "        k = m + n - 1  # nums1's index (the next filled position)\n",
        "\n",
        "        while j >= 0:\n",
        "            if i >= 0 and nums1[i] > nums2[j]:\n",
        "                nums1[k] = nums1[i]\n",
        "                k -= 1\n",
        "                i -= 1\n",
        "            else:\n",
        "                nums1[k] = nums2[j]\n",
        "                k -= 1\n",
        "                j -= 1"
      ],
      "metadata": {
        "id": "5-L56_DIfiOh"
      },
      "execution_count": null,
      "outputs": []
    },
    {
      "cell_type": "markdown",
      "source": [
        "26. Remove Duplicates from Sorted Array\n",
        "Solved\n",
        "Easy\n",
        "Topics\n",
        "Companies\n",
        "Hint\n",
        "Given an integer array nums sorted in non-decreasing order, remove the duplicates in-place such that each unique element appears only once. The relative order of the elements should be kept the same. Then return the number of unique elements in nums.\n",
        "\n",
        "Consider the number of unique elements of nums to be k, to get accepted, you need to do the following things:\n",
        "\n",
        "Change the array nums such that the first k elements of nums contain the unique elements in the order they were present in nums initially. The remaining elements of nums are not important as well as the size of nums."
      ],
      "metadata": {
        "id": "ZX71mWtFij9K"
      }
    },
    {
      "cell_type": "code",
      "source": [
        "class Solution:\n",
        "    def removeDuplicates(self, nums: List[int]) -> int:\n",
        "        k=0\n",
        "        for num in nums:\n",
        "            if k<1 or num>nums[k-1]:\n",
        "                nums[k]=num\n",
        "                k+=1\n",
        "        return k\n"
      ],
      "metadata": {
        "id": "5Q0SK_zaikw-"
      },
      "execution_count": null,
      "outputs": []
    },
    {
      "cell_type": "markdown",
      "source": [
        "80. Remove Duplicates from Sorted Array II\n",
        "Solved\n",
        "Medium\n",
        "Topics\n",
        "Companies\n",
        "Given an integer array nums sorted in non-decreasing order, remove some duplicates in-place such that each unique element appears at most twice. The relative order of the elements should be kept the same.\n",
        "\n",
        "Since it is impossible to change the length of the array in some languages, you must instead have the result be placed in the first part of the array nums. More formally, if there are k elements after removing the duplicates, then the first k elements of nums should hold the final result. It does not matter what you leave beyond the first k elements.\n",
        "\n",
        "Return k after placing the final result in the first k slots of nums.\n",
        "\n",
        "Do not allocate extra space for another array. You must do this by modifying the input array in-place with O(1) extra memory."
      ],
      "metadata": {
        "id": "ekrkXYGg2V4j"
      }
    },
    {
      "cell_type": "code",
      "source": [
        "class Solution:\n",
        "    def removeDuplicates(self, nums: List[int]) -> int:\n",
        "        i = 0\n",
        "\n",
        "        for num in nums:\n",
        "            if i < 2 or num != nums[i - 2]:\n",
        "                nums[i] = num\n",
        "                i += 1\n",
        "\n",
        "        return i"
      ],
      "metadata": {
        "id": "UzaFZj2P2bbB"
      },
      "execution_count": null,
      "outputs": []
    },
    {
      "cell_type": "markdown",
      "source": [
        "148. Given the head of a linked list, return the list after sorting it in ascending order."
      ],
      "metadata": {
        "id": "jpSZG7O4byre"
      }
    },
    {
      "cell_type": "code",
      "source": [
        "class Solution:\n",
        "  def sortList(self, head: ListNode) -> ListNode:\n",
        "    def split(head: ListNode, k: int) -> ListNode:\n",
        "      while k > 1 and head:\n",
        "        head = head.next\n",
        "        k -= 1\n",
        "      rest = head.next if head else None\n",
        "      if head:\n",
        "        head.next = None\n",
        "      return rest\n",
        "\n",
        "    def merge(l1: ListNode, l2: ListNode) -> tuple:\n",
        "      dummy = ListNode(0)\n",
        "      tail = dummy\n",
        "\n",
        "      while l1 and l2:\n",
        "        if l1.val > l2.val:\n",
        "          l1, l2 = l2, l1\n",
        "        tail.next = l1\n",
        "        l1 = l1.next\n",
        "        tail = tail.next\n",
        "      tail.next = l1 if l1 else l2\n",
        "      while tail.next:\n",
        "        tail = tail.next\n",
        "\n",
        "      return dummy.next, tail\n",
        "\n",
        "    length = 0\n",
        "    curr = head\n",
        "    while curr:\n",
        "      length += 1\n",
        "      curr = curr.next\n",
        "\n",
        "    dummy = ListNode(0, head)\n",
        "\n",
        "    k = 1\n",
        "    while k < length:\n",
        "      curr = dummy.next\n",
        "      tail = dummy\n",
        "      while curr:\n",
        "        l = curr\n",
        "        r = split(l, k)\n",
        "        curr = split(r, k)\n",
        "        mergedHead, mergedTail = merge(l, r)\n",
        "        tail.next = mergedHead\n",
        "        tail = mergedTail\n",
        "      k *= 2\n",
        "\n",
        "    return dummy.next"
      ],
      "metadata": {
        "id": "-CP37u6Mbvnw"
      },
      "execution_count": null,
      "outputs": []
    },
    {
      "cell_type": "markdown",
      "source": [
        "35. Search Insert Position. Given a sorted array of distinct integers and a target value, return the index if the target is found. If not, return the index where it would be if it were inserted in order.\n",
        "\n",
        "You must write an algorithm with O(log n) runtime complexity."
      ],
      "metadata": {
        "id": "jNtt_qmmcpWD"
      }
    },
    {
      "cell_type": "code",
      "source": [
        "class Solution:\n",
        "  def searchInsert(self, nums: List[int], target: int) -> int:\n",
        "    l = 0\n",
        "    r = len(nums)\n",
        "\n",
        "    while l < r:\n",
        "      m = (l + r) // 2\n",
        "      if nums[m] == target:\n",
        "        return m\n",
        "      if nums[m] < target:\n",
        "        l = m + 1\n",
        "      else:\n",
        "        r = m\n",
        "\n",
        "    return l"
      ],
      "metadata": {
        "id": "oh52q6Z_ctlR"
      },
      "execution_count": null,
      "outputs": []
    },
    {
      "cell_type": "markdown",
      "source": [
        "67. Add binary. Given two binary strings a and b, return their sum as a binary string."
      ],
      "metadata": {
        "id": "3kUb3zzFdL-A"
      }
    },
    {
      "cell_type": "code",
      "source": [
        "class Solution:\n",
        "  def addBinary(self, a: str, b: str) -> str:\n",
        "    ans = []\n",
        "    carry = 0\n",
        "    i = len(a) - 1\n",
        "    j = len(b) - 1\n",
        "\n",
        "    while i >= 0 or j >= 0 or carry:\n",
        "      if i >= 0:\n",
        "        carry += int(a[i])\n",
        "        i -= 1\n",
        "      if j >= 0:\n",
        "        carry += int(b[j])\n",
        "        j -= 1\n",
        "      ans.append(str(carry % 2))\n",
        "      carry //= 2\n",
        "\n",
        "    return ''.join(reversed(ans))"
      ],
      "metadata": {
        "id": "6IB-h4WpdOh_"
      },
      "execution_count": null,
      "outputs": []
    },
    {
      "cell_type": "markdown",
      "source": [
        "236. Lowest Common Ancestor of a Binary Tree\n",
        "Given a binary tree, find the lowest common ancestor (LCA) of two given nodes in the tree.\n",
        "\n",
        "According to the definition of LCA on Wikipedia: “The lowest common ancestor is defined between two nodes p and q as the lowest node in T that has both p and q as descendants (where we allow a node to be a descendant of itself).”"
      ],
      "metadata": {
        "id": "aLPlZa1Omk-3"
      }
    },
    {
      "cell_type": "code",
      "source": [
        "class Solution:\n",
        "  def lowestCommonAncestor(self, root: 'TreeNode', p: 'TreeNode', q: 'TreeNode') -> 'TreeNode':\n",
        "    if not root or root == p or root == q:\n",
        "      return root\n",
        "    left = self.lowestCommonAncestor(root.left, p, q)\n",
        "    right = self.lowestCommonAncestor(root.right, p, q)\n",
        "    if left and right:\n",
        "      return root\n",
        "    return left or right"
      ],
      "metadata": {
        "id": "-fy2R9HympqO"
      },
      "execution_count": null,
      "outputs": []
    }
  ]
}